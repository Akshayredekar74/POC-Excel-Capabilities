{
 "cells": [
  {
   "cell_type": "code",
   "execution_count": 1,
   "id": "46a77683",
   "metadata": {},
   "outputs": [],
   "source": [
    "import os\n",
    "from dotenv import load_dotenv\n",
    "import pandas as pd\n",
    "from langchain_groq import ChatGroq\n",
    "from langchain_openai import OpenAIEmbeddings\n",
    "from langchain_community.vectorstores import FAISS\n",
    "from langchain_core.messages import HumanMessage, SystemMessage, ToolMessage\n",
    "from langchain.tools import tool\n",
    "from langgraph.graph import StateGraph, START, END\n",
    "from typing import Annotated, Sequence, List\n",
    "from langchain_core.messages import BaseMessage\n",
    "from langchain_core.documents import Document\n",
    "from langgraph.graph.message import add_messages\n",
    "from typing_extensions import TypedDict\n",
    "from pydantic import BaseModel, Field\n",
    "import glob\n",
    "from pathlib import Path\n",
    "\n",
    "load_dotenv()\n",
    "os.environ[\"GROQ_API_KEY\"] = os.getenv(\"GROQ_API_KEY\", \"\")\n",
    "os.environ[\"OPENAI_API_KEY\"] = os.getenv(\"OPENAI_API_KEY\", \"\")"
   ]
  },
  {
   "cell_type": "code",
   "execution_count": 2,
   "id": "90b2196d",
   "metadata": {},
   "outputs": [
    {
     "name": "stdout",
     "output_type": "stream",
     "text": [
      "Discovered files:\n",
      "CSV files (2): ['data/structured_files\\\\IMDB-Movie-Data.csv', 'data/structured_files\\\\Products.csv']\n",
      "Excel files (1): ['data/structured_files\\\\inventory.xlsx']\n"
     ]
    }
   ],
   "source": [
    "# Ensure required modules are available when this cell is run standalone\n",
    "import os\n",
    "import glob\n",
    "\n",
    "data_folder = 'data/structured_files'\n",
    "\n",
    "csv_files = glob.glob(os.path.join(data_folder, '**/*.csv'), recursive=True)\n",
    "excel_files = glob.glob(os.path.join(data_folder, '**/*.xlsx'), recursive=True) + \\\n",
    "              glob.glob(os.path.join(data_folder, '**/*.xls'), recursive=True)\n",
    "\n",
    "print(\"Discovered files:\")\n",
    "print(f\"CSV files ({len(csv_files)}): {csv_files}\")\n",
    "print(f\"Excel files ({len(excel_files)}): {excel_files}\")"
   ]
  },
  {
   "cell_type": "code",
   "execution_count": 3,
   "id": "8bf734bd",
   "metadata": {},
   "outputs": [
    {
     "name": "stdout",
     "output_type": "stream",
     "text": [
      "Created 1000 documents from data/structured_files\\IMDB-Movie-Data.csv\n",
      "Schema: 1000 rows, 12 columns\n",
      "Columns: ['Rank', 'Title', 'Genre', 'Description', 'Director', 'Actors', 'Year', 'Runtime (Minutes)', 'Rating', 'Votes', 'Revenue (Millions)', 'Metascore']\n",
      "\n",
      "Created 5 documents from data/structured_files\\Products.csv\n",
      "Schema: 5 rows, 5 columns\n",
      "Columns: ['Product', 'Category', 'Price', 'Stock', 'Description']\n",
      "\n",
      "Total CSV documents: 1005\n",
      "\n",
      "Sample document:\n",
      "Rank: 1\n",
      "Title: Guardians of the Galaxy\n",
      "Genre: Action,Adventure,Sci-Fi\n",
      "Description: A group of intergalactic criminals are forced to work together to stop a fanatical warrior from taking control of the universe.\n",
      "Director: James Gunn\n",
      "Actors: Chris Pratt, Vin Diesel, Bradley Cooper, Zoe Saldana\n",
      "Year: 2\n"
     ]
    }
   ],
   "source": [
    "def detect_file_schema(df, filepath):\n",
    "    columns = df.columns.tolist()\n",
    "    sample_data = df.head(3).to_dict('records')\n",
    "    \n",
    "    schema_info = {\n",
    "        'columns': columns,\n",
    "        'num_columns': len(columns),\n",
    "        'num_rows': len(df),\n",
    "        'filepath': filepath,\n",
    "        'sample_values': {}\n",
    "    }\n",
    "    \n",
    "    for col in columns:\n",
    "        non_null_values = df[col].dropna()\n",
    "        if len(non_null_values) > 0:\n",
    "            schema_info['sample_values'][col] = str(non_null_values.iloc[0])\n",
    "    \n",
    "    return schema_info\n",
    "\n",
    "def process_csv_to_documents(filepath: str) -> tuple[List[Document], dict]:\n",
    "    df = pd.read_csv(filepath)\n",
    "    schema_info = detect_file_schema(df, filepath)\n",
    "    documents = []\n",
    "    columns = df.columns.tolist()\n",
    "    \n",
    "    for idx, row in df.iterrows():\n",
    "        content_parts = []\n",
    "        metadata = {\n",
    "            'source': filepath,\n",
    "            'row_index': idx,\n",
    "            'file_type': 'csv',\n",
    "            'filename': os.path.basename(filepath)\n",
    "        }\n",
    "        \n",
    "        for col in columns:\n",
    "            value = row[col]\n",
    "            if pd.notna(value):\n",
    "                content_parts.append(f\"{col}: {value}\")\n",
    "        \n",
    "        if content_parts:\n",
    "            content = \"\\n\".join(content_parts)\n",
    "            doc = Document(\n",
    "                page_content=content.strip(),\n",
    "                metadata=metadata\n",
    "            )\n",
    "            documents.append(doc)\n",
    "    \n",
    "    return documents, schema_info\n",
    "\n",
    "all_csv_documents = []\n",
    "csv_schemas = []\n",
    "\n",
    "for csv_path in csv_files:\n",
    "    try:\n",
    "        docs, schema = process_csv_to_documents(csv_path)\n",
    "        all_csv_documents.extend(docs)\n",
    "        csv_schemas.append(schema)\n",
    "        print(f\"Created {len(docs)} documents from {csv_path}\")\n",
    "        print(f\"Schema: {schema['num_rows']} rows, {schema['num_columns']} columns\")\n",
    "        print(f\"Columns: {schema['columns']}\\n\")\n",
    "    except Exception as e:\n",
    "        print(f\"Error processing {csv_path}: {str(e)}\\n\")\n",
    "\n",
    "print(f\"Total CSV documents: {len(all_csv_documents)}\")\n",
    "if all_csv_documents:\n",
    "    print(f\"\\nSample document:\\n{all_csv_documents[0].page_content[:300]}\")"
   ]
  },
  {
   "cell_type": "code",
   "execution_count": 4,
   "id": "5581f462",
   "metadata": {},
   "outputs": [
    {
     "name": "stdout",
     "output_type": "stream",
     "text": [
      "Created 7 documents from data/structured_files\\inventory.xlsx\n",
      "Sheet: Products, 5 rows, 5 columns\n",
      "Columns: ['Product', 'Category', 'Price', 'Stock', 'Description']\n",
      "\n",
      "Sheet: Summary, 2 rows, 3 columns\n",
      "Columns: ['Category', 'Total_Items', 'Total_Value']\n",
      "\n",
      "Total Excel documents: 7\n"
     ]
    }
   ],
   "source": [
    "def process_excel_to_documents(filepath: str) -> tuple[List[Document], dict]:\n",
    "    documents = []\n",
    "    all_schemas = []\n",
    "    excel_file = pd.ExcelFile(filepath)\n",
    "    \n",
    "    for sheet_name in excel_file.sheet_names:\n",
    "        df = pd.read_excel(filepath, sheet_name=sheet_name)\n",
    "        schema_info = detect_file_schema(df, f\"{filepath}#{sheet_name}\")\n",
    "        schema_info['sheet_name'] = sheet_name\n",
    "        all_schemas.append(schema_info)\n",
    "        \n",
    "        columns = df.columns.tolist()\n",
    "        \n",
    "        for idx, row in df.iterrows():\n",
    "            content_parts = [f\"Sheet: {sheet_name}\"]\n",
    "            metadata = {\n",
    "                'source': filepath,\n",
    "                'sheet_name': sheet_name,\n",
    "                'row_index': idx,\n",
    "                'file_type': 'excel',\n",
    "                'filename': os.path.basename(filepath)\n",
    "            }\n",
    "            \n",
    "            for col in columns:\n",
    "                value = row[col]\n",
    "                if pd.notna(value):\n",
    "                    content_parts.append(f\"{col}: {value}\")\n",
    "            \n",
    "            if len(content_parts) > 1:\n",
    "                content = \"\\n\".join(content_parts)\n",
    "                doc = Document(\n",
    "                    page_content=content.strip(),\n",
    "                    metadata=metadata\n",
    "                )\n",
    "                documents.append(doc)\n",
    "    \n",
    "    return documents, all_schemas\n",
    "\n",
    "all_excel_documents = []\n",
    "excel_schemas = []\n",
    "\n",
    "for excel_path in excel_files:\n",
    "    try:\n",
    "        docs, schemas = process_excel_to_documents(excel_path)\n",
    "        all_excel_documents.extend(docs)\n",
    "        excel_schemas.extend(schemas)\n",
    "        print(f\"Created {len(docs)} documents from {excel_path}\")\n",
    "        for schema in schemas:\n",
    "            print(f\"Sheet: {schema.get('sheet_name', 'N/A')}, {schema['num_rows']} rows, {schema['num_columns']} columns\")\n",
    "            print(f\"Columns: {schema['columns']}\\n\")\n",
    "    except Exception as e:\n",
    "        print(f\"Error processing {excel_path}: {str(e)}\\n\")\n",
    "\n",
    "print(f\"Total Excel documents: {len(all_excel_documents)}\")"
   ]
  },
  {
   "cell_type": "code",
   "execution_count": 5,
   "id": "82278b53",
   "metadata": {},
   "outputs": [
    {
     "name": "stdout",
     "output_type": "stream",
     "text": [
      "Total documents: 1012\n",
      "CSV documents: 1005\n",
      "Excel documents: 7\n",
      "Total schemas detected: 4\n"
     ]
    }
   ],
   "source": [
    "all_documents = all_csv_documents + all_excel_documents\n",
    "all_schemas = csv_schemas + excel_schemas\n",
    "\n",
    "print(f\"Total documents: {len(all_documents)}\")\n",
    "print(f\"CSV documents: {len(all_csv_documents)}\")\n",
    "print(f\"Excel documents: {len(all_excel_documents)}\")\n",
    "print(f\"Total schemas detected: {len(all_schemas)}\")"
   ]
  },
  {
   "cell_type": "code",
   "execution_count": 6,
   "id": "1102be40",
   "metadata": {},
   "outputs": [
    {
     "name": "stdout",
     "output_type": "stream",
     "text": [
      "Schema Summary:\n",
      "Database contains the following data sources:\n",
      "\n",
      "Source: IMDB-Movie-Data.csv\n",
      "Columns: Rank, Title, Genre, Description, Director, Actors, Year, Runtime (Minutes), Rating, Votes, Revenue (Millions), Metascore\n",
      "Total records: 1000\n",
      "\n",
      "Source: Products.csv\n",
      "Columns: Product, Category, Price, Stock, Description\n",
      "Total records: 5\n",
      "\n",
      "Source: Products\n",
      "Columns: Product, Category, Price, Stock, Description\n",
      "Total records: 5\n",
      "\n",
      "Source: Summary\n",
      "Columns: Category, Total_Items, Total_Value\n",
      "Total records: 2\n",
      "\n",
      "\n"
     ]
    }
   ],
   "source": [
    "schema_summary = \"Database contains the following data sources:\\n\\n\"\n",
    "for schema in all_schemas:\n",
    "    source_name = schema.get('sheet_name', os.path.basename(schema['filepath']))\n",
    "    schema_summary += f\"Source: {source_name}\\n\"\n",
    "    schema_summary += f\"Columns: {', '.join(schema['columns'])}\\n\"\n",
    "    schema_summary += f\"Total records: {schema['num_rows']}\\n\\n\"\n",
    "\n",
    "print(\"Schema Summary:\")\n",
    "print(schema_summary)"
   ]
  },
  {
   "cell_type": "code",
   "execution_count": 7,
   "id": "5128576f",
   "metadata": {},
   "outputs": [
    {
     "name": "stdout",
     "output_type": "stream",
     "text": [
      "\n",
      "Vector store created successfully\n",
      "Number of vectors: 1012\n"
     ]
    }
   ],
   "source": [
    "embeddings = OpenAIEmbeddings(model=\"text-embedding-3-small\")\n",
    "\n",
    "vectorstore = FAISS.from_documents(\n",
    "    documents=all_documents,\n",
    "    embedding=embeddings\n",
    ")\n",
    "\n",
    "print(\"\\nVector store created successfully\")\n",
    "print(f\"Number of vectors: {vectorstore.index.ntotal}\")"
   ]
  },
  {
   "cell_type": "code",
   "execution_count": 8,
   "id": "fd8c08bf",
   "metadata": {},
   "outputs": [
    {
     "name": "stdout",
     "output_type": "stream",
     "text": [
      "\n",
      "Vector store saved to disk at 'vectorstore_0417ffdb_1761549369'\n"
     ]
    }
   ],
   "source": [
    "import hashlib\n",
    "import time\n",
    "\n",
    "folder_hash = hashlib.md5(data_folder.encode()).hexdigest()[:8]\n",
    "timestamp = int(time.time())\n",
    "vectorstore_name = f\"vectorstore_{folder_hash}_{timestamp}\"\n",
    "\n",
    "vectorstore.save_local(vectorstore_name)\n",
    "print(f\"\\nVector store saved to disk at '{vectorstore_name}'\")"
   ]
  },
  {
   "cell_type": "code",
   "execution_count": 9,
   "id": "192c0129",
   "metadata": {},
   "outputs": [
    {
     "name": "stdout",
     "output_type": "stream",
     "text": [
      "\n",
      "Retriever configured\n"
     ]
    }
   ],
   "source": [
    "retriever = vectorstore.as_retriever(\n",
    "    search_type=\"similarity\",\n",
    "    search_kwargs={\"k\": 7}\n",
    ")\n",
    "\n",
    "print(\"\\nRetriever configured\")"
   ]
  },
  {
   "cell_type": "code",
   "execution_count": 10,
   "id": "7a6153e6",
   "metadata": {},
   "outputs": [
    {
     "name": "stdout",
     "output_type": "stream",
     "text": [
      "\n",
      "Tool created\n"
     ]
    }
   ],
   "source": [
    "class QueryInput(BaseModel):\n",
    "    query: str = Field(description=\"The search query to find relevant information from the database\")\n",
    "\n",
    "@tool(args_schema=QueryInput)\n",
    "\n",
    "def query_vector_database(query: str) -> str:\n",
    "    \"\"\"Search the movie and product database for relevant information\"\"\"\n",
    "    retrieved_docs = retriever.invoke(query)\n",
    "    context = \"\\n\\n---\\n\\n\".join([doc.page_content for doc in retrieved_docs])\n",
    "    return context\n",
    "\n",
    "print(\"\\nTool created\")"
   ]
  },
  {
   "cell_type": "code",
   "execution_count": 11,
   "id": "05878f95",
   "metadata": {},
   "outputs": [],
   "source": [
    "class AgentState(TypedDict):\n",
    "    messages: Annotated[Sequence[BaseMessage], add_messages]"
   ]
  },
  {
   "cell_type": "code",
   "execution_count": 12,
   "id": "4cbefbfd",
   "metadata": {},
   "outputs": [],
   "source": [
    "def agent(state: AgentState):\n",
    "    print(\"---CALL AGENT---\")\n",
    "    messages = state[\"messages\"]\n",
    "    \n",
    "    user_query = messages[0].content\n",
    "    print(f\"Retrieving context for: {user_query}\")\n",
    "    \n",
    "    tool_result = query_vector_database.invoke({\"query\": user_query})\n",
    "    \n",
    "    tool_msg = ToolMessage(\n",
    "        content=tool_result,\n",
    "        tool_call_id=\"retrieval_call\"\n",
    "    )\n",
    "    \n",
    "    return {\"messages\": [tool_msg]}"
   ]
  },
  {
   "cell_type": "code",
   "execution_count": 13,
   "id": "5d814bc0",
   "metadata": {},
   "outputs": [],
   "source": [
    "def responder(state: AgentState):\n",
    "    print(\"---GENERATE RESPONSE---\")\n",
    "    messages = state[\"messages\"]\n",
    "    \n",
    "    tool_message = messages[-1]\n",
    "    retrieved_context = tool_message.content\n",
    "    \n",
    "    question = messages[0].content\n",
    "    \n",
    "    system_prompt = f\"\"\"You are a helpful assistant with access to a structured database.\n",
    "\n",
    "Database Schema Information:\n",
    "{schema_summary}\n",
    "\n",
    "Use the retrieved information to answer the user's question accurately and clearly.\n",
    "The data fields shown above indicate what type of information is available in the database.\n",
    "Provide specific details like names, numbers, and facts from the retrieved data.\n",
    "If the information is not available in the retrieved data, say so clearly.\"\"\"\n",
    "    \n",
    "    llm = ChatGroq(model=\"openai/gpt-oss-120b\", temperature=0)\n",
    "    \n",
    "    response = llm.invoke([\n",
    "        SystemMessage(content=system_prompt),\n",
    "        HumanMessage(content=f\"Context: {retrieved_context}\\n\\nQuestion: {question}\")\n",
    "    ])\n",
    "    \n",
    "    return {\"messages\": [response]}"
   ]
  },
  {
   "cell_type": "code",
   "execution_count": 14,
   "id": "4b8285c3",
   "metadata": {},
   "outputs": [
    {
     "name": "stdout",
     "output_type": "stream",
     "text": [
      "\n",
      "Workflow graph compiled successfully\n"
     ]
    }
   ],
   "source": [
    "workflow = StateGraph(AgentState)\n",
    "\n",
    "workflow.add_node(\"agent\", agent)\n",
    "workflow.add_node(\"responder\", responder)\n",
    "\n",
    "workflow.add_edge(START, \"agent\")\n",
    "workflow.add_edge(\"agent\", \"responder\")\n",
    "workflow.add_edge(\"responder\", END)\n",
    "\n",
    "graph = workflow.compile()\n",
    "\n",
    "print(\"\\nWorkflow graph compiled successfully\")"
   ]
  },
  {
   "cell_type": "code",
   "execution_count": 15,
   "id": "23277e83",
   "metadata": {},
   "outputs": [
    {
     "data": {
      "image/png": "[encoded data removed]",
      "text/plain": [
       "<IPython.core.display.Image object>"
      ]
     },
     "metadata": {},
     "output_type": "display_data"
    }
   ],
   "source": [
    "from IPython.display import Image, display\n",
    "\n",
    "try:\n",
    "    display(Image(graph.get_graph().draw_mermaid_png()))\n",
    "except:\n",
    "    print(\"Graph visualization not available\")"
   ]
  },
  {
   "cell_type": "code",
   "execution_count": 16,
   "id": "dd727c98",
   "metadata": {},
   "outputs": [
    {
     "name": "stdout",
     "output_type": "stream",
     "text": [
      "---CALL AGENT---\n",
      "Retrieving context for: What data sources are available in the database?\n",
      "---GENERATE RESPONSE---\n",
      "Query: What data sources are available in the database?\n",
      "\n",
      "Answer: The database contains the following data sources:\n",
      "\n",
      "1. **IMDB-Movie-Data.csv** – movie information (rank, title, genre, description, director, actors, year, runtime, rating, votes, revenue, metascore).  \n",
      "2. **Products.csv** – product listings (product name, category, price, stock, description).  \n",
      "3. **Products** – another view/table of product listings (same columns as the CSV).  \n",
      "4. **Summary** – summary data by category (total items, total value).\n"
     ]
    }
   ],
   "source": [
    "query1 = \"What data sources are available in the database?\"\n",
    "response = graph.invoke({\"messages\": [HumanMessage(content=query1)]})\n",
    "print(f\"Query: {query1}\")\n",
    "print(f\"\\nAnswer: {response['messages'][-1].content}\")"
   ]
  },
  {
   "cell_type": "code",
   "execution_count": 17,
   "id": "e10b9d40",
   "metadata": {},
   "outputs": [
    {
     "name": "stdout",
     "output_type": "stream",
     "text": [
      "---CALL AGENT---\n",
      "Retrieving context for: Show me the top entries by rating or value\n",
      "---GENERATE RESPONSE---\n",
      "\n",
      "Query: Show me the top entries by rating or value\n",
      "\n",
      "Answer: **Top entries by rating (movies)**  \n",
      "\n",
      "| Rank | Title | Rating | Year | Revenue (Millions) |\n",
      "|------|-------------------------------|--------|------|-------------------|\n",
      "| 51   | *Star Wars: Episode VII – The Force Awakens* | **8.1** | 2015 | 936.63 |\n",
      "| 519  | *The Hobbit: The Desolation of Smaug* | **7.9** | 2013 | 258.36 |\n",
      "| 320  | *Fast Five* | **7.3** | 2011 | 209.81 |\n",
      "| 79   | *Pirates of the Caribbean: Dead Man’s Chest* | **7.3** | 2006 | 423.03 |\n",
      "| 942  | *The Twilight Saga: Eclipse* | **4.9** | 2010 | 300.52 |\n",
      "\n",
      "*The list is sorted from the highest to the lowest rating. When ratings are tied (e.g., 7.3), the movies are shown in the order they appear in the data.*\n",
      "\n",
      "---\n",
      "\n",
      "**Top entries by value (revenue)**  \n",
      "\n",
      "| Rank | Title | Revenue (Millions) | Rating |\n",
      "|------|-------------------------------|-------------------|--------|\n",
      "| 51   | *Star Wars: Episode VII – The Force Awakens* | **936.63** | 8.1 |\n",
      "| 79   | *Pirates of the Caribbean: Dead Man’s Chest* | **423.03** | 7.3 |\n",
      "| 942  | *The Twilight Saga: Eclipse* | **300.52** | 4.9 |\n",
      "| 519  | *The Hobbit: The Desolation of Smaug* | **258.36** | 7.9 |\n",
      "| 320  | *Fast Five* | **209.81** | 7.3 |\n",
      "\n",
      "*Sorted from the highest to the lowest revenue (“value”).*\n",
      "\n",
      "---\n",
      "\n",
      "**Top entry by value (product summary)**  \n",
      "\n",
      "| Category    | Total_Items | Total_Value (USD) |\n",
      "|-------------|-------------|-------------------|\n",
      "| **Electronics** | 3           | **1,389.97** |\n",
      "| Accessories | 2           | 109.98 |\n",
      "\n",
      "*Electronics has the highest total value among the summary categories.*\n",
      "\n",
      "---\n",
      "\n",
      "### Quick take‑away\n",
      "- **Highest‑rated movie:** *Star Wars: Episode VII – The Force Awakens* (8.1).  \n",
      "- **Highest‑revenue movie:** *Star Wars: Episode VII – The Force Awakens* ($936.63 M).  \n",
      "- **Highest‑value product category:** **Electronics** ($1,389.97).  \n"
     ]
    }
   ],
   "source": [
    "query2 = \"Show me the top entries by rating or value\"\n",
    "response = graph.invoke({\"messages\": [HumanMessage(content=query2)]})\n",
    "print(f\"\\nQuery: {query2}\")\n",
    "print(f\"\\nAnswer: {response['messages'][-1].content}\")"
   ]
  },
  {
   "cell_type": "code",
   "execution_count": 18,
   "id": "2f6eb0d9",
   "metadata": {},
   "outputs": [
    {
     "name": "stdout",
     "output_type": "stream",
     "text": [
      "---CALL AGENT---\n",
      "Retrieving context for: Summarize the data from 2016\n",
      "---GENERATE RESPONSE---\n",
      "\n",
      "Query: Summarize the data from 2016\n",
      "\n",
      "Answer: **2016 Movie Data Summary**\n",
      "\n",
      "| # | Title | Genre(s) | Director | Runtime (min) | Rating (IMDb) | Metascore | Revenue (M $) | Votes |\n",
      "|---|-------|----------|----------|---------------|---------------|-----------|---------------|-------|\n",
      "| 1 | Batman v Superman: Dawn of Justice | Action, Adventure, Sci‑Fi | Zack Snyder | 151 | 6.7 | 44 | 330.25 | 472,307 |\n",
      "| 2 | Snowden | Biography, Drama, Thriller | Oliver Stone | 134 | 7.3 | 58 | 21.48 | 79,855 |\n",
      "| 3 | Hidden Figures | Biography, Drama, History | Theodore Melfi | 127 | 7.8 | 74 | 169.27 | 93,103 |\n",
      "| 4 | The Secret Life of Pets | Animation, Adventure, Comedy | Chris Renaud | 87 | 6.6 | 61 | 368.31 | 120,259 |\n",
      "| 5 | The Purge: Election Year | Action, Horror, Sci‑Fi | James DeMonaco | 109 | 6.0 | 55 | 79.00 | 54,216 |\n",
      "\n",
      "### Aggregate Statistics (all five 2016 movies)\n",
      "\n",
      "| Metric | Value |\n",
      "|--------|-------|\n",
      "| **Number of movies** | 5 |\n",
      "| **Total worldwide revenue** | **$968.31 million** |\n",
      "| **Average IMDb rating** | **6.88** |\n",
      "| **Average Metascore** | **58.4** |\n",
      "| **Average runtime** | **121.6 minutes** |\n",
      "| **Total votes (IMDb)** | **819,740** |\n",
      "\n",
      "### Observations\n",
      "\n",
      "* **Revenue leaders:** *The Secret Life of Pets* ($368.31 M) and *Batman v Superman* ($330.25 M) together account for ~72 % of the total 2016 revenue in this set.  \n",
      "* **Highest‑rated film:** *Hidden Figures* (7.8) also has the highest Metascore (74).  \n",
      "* **Genre mix:** The list spans a variety of genres—action/sci‑fi, biographical drama, animation/comedy, and horror—showing a diverse 2016 slate.  \n",
      "* **Runtime spread:** The shortest film is *The Secret Life of Pets* (87 min) while the longest is *Batman v Superman* (151 min).  \n",
      "\n",
      "These figures capture the key quantitative aspects of the 2016 movies provided in the data.\n"
     ]
    }
   ],
   "source": [
    "query4 = \"Summarize the data from 2016\"\n",
    "response = graph.invoke({\"messages\": [HumanMessage(content=query4)]})\n",
    "print(f\"\\nQuery: {query4}\")\n",
    "print(f\"\\nAnswer: {response['messages'][-1].content}\")"
   ]
  },
  {
   "cell_type": "code",
   "execution_count": 22,
   "id": "1a7c9f5c",
   "metadata": {},
   "outputs": [
    {
     "name": "stdout",
     "output_type": "stream",
     "text": [
      "---CALL AGENT---\n",
      "Retrieving context for: List all movies in the Sci-Fi genre, including their year and runtime.\n",
      "---GENERATE RESPONSE---\n",
      "\n",
      "Query: List all movies in the Sci-Fi genre, including their year and runtime.\n",
      "\n",
      "Answer: **Movies that include “Sci‑Fi” in their genre**\n",
      "\n",
      "| Title | Year | Runtime (Minutes) |\n",
      "|-------|------|-------------------|\n",
      "| Star Trek Beyond | 2016 | 122 |\n",
      "| Star Trek (2009) | 2009 | 127 |\n",
      "| Cloverfield | 2008 | 85 |\n",
      "| Rogue One | 2016 | 133 |\n",
      "| Riddick | 2013 | 119 |\n",
      "| Interstellar | 2014 | 169 |\n",
      "| The Survivalist | 2015 | 104 |\n",
      "\n",
      "All of the movies listed above have “Sci‑Fi” as part of their genre, and their year of release and runtime are taken directly from the provided data.\n"
     ]
    }
   ],
   "source": [
    "query5 = \"List all movies in the Sci-Fi genre, including their year and runtime.\"\n",
    "response = graph.invoke({\"messages\": [HumanMessage(content=query5)]})\n",
    "print(f\"\\nQuery: {query5}\")\n",
    "print(f\"\\nAnswer: {response['messages'][-1].content}\")"
   ]
  },
  {
   "cell_type": "code",
   "execution_count": null,
   "id": "5c39f725",
   "metadata": {},
   "outputs": [],
   "source": [
    "\"List all movies in the Sci-Fi genre, including their year and runtime.\""
   ]
  }
 ],
 "metadata": {
  "kernelspec": {
   "display_name": "pocexcel",
   "language": "python",
   "name": "python3"
  },
  "language_info": {
   "codemirror_mode": {
    "name": "ipython",
    "version": 3
   },
   "file_extension": ".py",
   "mimetype": "text/x-python",
   "name": "python",
   "nbconvert_exporter": "python",
   "pygments_lexer": "ipython3",
   "version": "3.12.9"
  }
 },
 "nbformat": 4,
 "nbformat_minor": 5
}
