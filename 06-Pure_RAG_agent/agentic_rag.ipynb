{
 "cells": [
  {
   "cell_type": "code",
   "execution_count": 2,
   "id": "e1cb3369",
   "metadata": {},
   "outputs": [],
   "source": [
    "import os\n",
    "from dotenv import load_dotenv\n",
    "import pandas as pd\n",
    "from langchain_groq import ChatGroq\n",
    "from langchain_openai import OpenAIEmbeddings\n",
    "from langchain_community.vectorstores import FAISS\n",
    "from langchain_core.messages import HumanMessage, SystemMessage, ToolMessage\n",
    "from langchain.tools import tool\n",
    "from langgraph.graph import StateGraph, START, END\n",
    "from typing import Annotated, Sequence, List\n",
    "from langchain_core.messages import BaseMessage\n",
    "from langchain_core.documents import Document\n",
    "from langgraph.graph.message import add_messages\n",
    "from typing_extensions import TypedDict\n",
    "from pydantic import BaseModel, Field\n",
    "\n",
    "load_dotenv()\n",
    "os.environ[\"GROQ_API_KEY\"] = os.getenv(\"GROQ_API_KEY\", \"\")\n",
    "os.environ[\"OPENAI_API_KEY\"] = os.getenv(\"OPENAI_API_KEY\", \"\")"
   ]
  },
  {
   "cell_type": "code",
   "execution_count": 4,
   "id": "2212771b",
   "metadata": {},
   "outputs": [
    {
     "name": "stdout",
     "output_type": "stream",
     "text": [
      "CSV Data Preview:\n",
      "   Rank                    Title                     Genre  \\\n",
      "0     1  Guardians of the Galaxy   Action,Adventure,Sci-Fi   \n",
      "1     2               Prometheus  Adventure,Mystery,Sci-Fi   \n",
      "2     3                    Split           Horror,Thriller   \n",
      "3     4                     Sing   Animation,Comedy,Family   \n",
      "4     5            Suicide Squad  Action,Adventure,Fantasy   \n",
      "\n",
      "                                         Description              Director  \\\n",
      "0  A group of intergalactic criminals are forced ...            James Gunn   \n",
      "1  Following clues to the origin of mankind, a te...          Ridley Scott   \n",
      "2  Three girls are kidnapped by a man with a diag...    M. Night Shyamalan   \n",
      "3  In a city of humanoid animals, a hustling thea...  Christophe Lourdelet   \n",
      "4  A secret government agency recruits some of th...            David Ayer   \n",
      "\n",
      "                                              Actors  Year  Runtime (Minutes)  \\\n",
      "0  Chris Pratt, Vin Diesel, Bradley Cooper, Zoe S...  2014                121   \n",
      "1  Noomi Rapace, Logan Marshall-Green, Michael Fa...  2012                124   \n",
      "2  James McAvoy, Anya Taylor-Joy, Haley Lu Richar...  2016                117   \n",
      "3  Matthew McConaughey,Reese Witherspoon, Seth Ma...  2016                108   \n",
      "4  Will Smith, Jared Leto, Margot Robbie, Viola D...  2016                123   \n",
      "\n",
      "   Rating   Votes  Revenue (Millions)  Metascore  \n",
      "0     8.1  757074              333.13         76  \n",
      "1     7.0  485820              126.46         65  \n",
      "2     7.3  157606              138.12         62  \n",
      "3     7.2   60545              270.32         59  \n",
      "4     6.2  393727              325.02         40  \n",
      "\n",
      "Shape: (1000, 12)\n",
      "Columns: ['Rank', 'Title', 'Genre', 'Description', 'Director', 'Actors', 'Year', 'Runtime (Minutes)', 'Rating', 'Votes', 'Revenue (Millions)', 'Metascore']\n"
     ]
    }
   ],
   "source": [
    "# Load and parse CSV file\n",
    "csv_file_path = 'data/structured_files/IMDB-Movie-Data.csv'\n",
    "df_movies = pd.read_csv(csv_file_path)\n",
    "\n",
    "print(\"CSV Data Preview:\")\n",
    "print(df_movies.head())\n",
    "print(f\"\\nShape: {df_movies.shape}\")\n",
    "print(f\"Columns: {df_movies.columns.tolist()}\")"
   ]
  },
  {
   "cell_type": "code",
   "execution_count": 5,
   "id": "ce10d692",
   "metadata": {},
   "outputs": [
    {
     "name": "stdout",
     "output_type": "stream",
     "text": [
      "\n",
      "Created 1000 documents from CSV\n",
      "\n",
      "Sample document:\n",
      "Movie: Guardians of the Galaxy\n",
      "Rank: 1\n",
      "Genre: Action,Adventure,Sci-Fi\n",
      "Director: James Gunn\n",
      "Actors: Chris Pratt, Vin Diesel, Bradley Cooper, Zoe Saldana\n",
      "Year: 2014\n",
      "Runtime: 121 minutes\n",
      "Rating: 8.1\n",
      "Votes: 757074\n",
      "Revenue: $333.13 million\n",
      "Metascore: 76\n",
      "Description: A group of intergalactic criminals are\n"
     ]
    }
   ],
   "source": [
    "def process_csv_to_documents(filepath: str) -> List[Document]:\n",
    "    df = pd.read_csv(filepath)\n",
    "    documents = []\n",
    "    \n",
    "    for idx, row in df.iterrows():\n",
    "        content = f\"\"\"Movie: {row['Title']}\n",
    "Rank: {row['Rank']}\n",
    "Genre: {row['Genre']}\n",
    "Director: {row['Director']}\n",
    "Actors: {row['Actors']}\n",
    "Year: {row['Year']}\n",
    "Runtime: {row['Runtime (Minutes)']} minutes\n",
    "Rating: {row['Rating']}\n",
    "Votes: {row['Votes']}\n",
    "Revenue: ${row['Revenue (Millions)']} million\n",
    "Metascore: {row['Metascore']}\n",
    "Description: {row['Description']}\"\"\"\n",
    "        \n",
    "        doc = Document(\n",
    "            page_content=content.strip(),\n",
    "            metadata={\n",
    "                'source': filepath,\n",
    "                'row_index': idx,\n",
    "                'title': row['Title'],\n",
    "                'genre': row['Genre'],\n",
    "                'year': row['Year'],\n",
    "                'rating': row['Rating'],\n",
    "                'director': row['Director']\n",
    "            }\n",
    "        )\n",
    "        documents.append(doc)\n",
    "    \n",
    "    return documents\n",
    "\n",
    "csv_documents = process_csv_to_documents(csv_file_path)\n",
    "print(f\"\\nCreated {len(csv_documents)} documents from CSV\")\n",
    "print(f\"\\nSample document:\")\n",
    "print(csv_documents[0].page_content[:300])"
   ]
  },
  {
   "cell_type": "code",
   "execution_count": 6,
   "id": "8d67a6e9",
   "metadata": {},
   "outputs": [
    {
     "name": "stdout",
     "output_type": "stream",
     "text": [
      "\n",
      "Created 7 documents from Excel\n"
     ]
    }
   ],
   "source": [
    "excel_file_path = 'data/structured_files/inventory.xlsx'\n",
    "\n",
    "def process_excel_to_documents(filepath: str) -> List[Document]:\n",
    "    documents = []\n",
    "    excel_file = pd.ExcelFile(filepath)\n",
    "    \n",
    "    for sheet_name in excel_file.sheet_names:\n",
    "        df = pd.read_excel(filepath, sheet_name=sheet_name)\n",
    "        \n",
    "        for idx, row in df.iterrows():\n",
    "            if sheet_name == 'Products':\n",
    "                content = f\"\"\"Product: {row['Product']}\n",
    "Category: {row['Category']}\n",
    "Price: ${row['Price']}\n",
    "Stock: {row['Stock']} units\n",
    "Description: {row['Description']}\n",
    "Sheet: {sheet_name}\"\"\"\n",
    "            else:\n",
    "                content = f\"\"\"Category: {row['Category']}\n",
    "Total Items: {row['Total_Items']}\n",
    "Total Value: ${row['Total_Value']}\n",
    "Sheet: {sheet_name}\"\"\"\n",
    "            \n",
    "            doc = Document(\n",
    "                page_content=content.strip(),\n",
    "                metadata={\n",
    "                    'source': filepath,\n",
    "                    'sheet_name': sheet_name,\n",
    "                    'row_index': idx\n",
    "                }\n",
    "            )\n",
    "            documents.append(doc)\n",
    "    \n",
    "    return documents\n",
    "\n",
    "excel_documents = process_excel_to_documents(excel_file_path)\n",
    "print(f\"\\nCreated {len(excel_documents)} documents from Excel\")"
   ]
  },
  {
   "cell_type": "code",
   "execution_count": 7,
   "id": "1ff78dc9",
   "metadata": {},
   "outputs": [
    {
     "name": "stdout",
     "output_type": "stream",
     "text": [
      "\n",
      "Total documents: 1007\n"
     ]
    }
   ],
   "source": [
    "all_documents = csv_documents + excel_documents\n",
    "print(f\"\\nTotal documents: {len(all_documents)}\")"
   ]
  },
  {
   "cell_type": "code",
   "execution_count": 15,
   "id": "bb023c01",
   "metadata": {},
   "outputs": [
    {
     "name": "stdout",
     "output_type": "stream",
     "text": [
      "\n",
      "Vector store created successfully\n",
      "Number of vectors: 1007\n"
     ]
    }
   ],
   "source": [
    "embeddings = OpenAIEmbeddings(model=\"text-embedding-3-small\")\n",
    "\n",
    "vectorstore = FAISS.from_documents(\n",
    "    documents=all_documents,\n",
    "    embedding=embeddings\n",
    ")\n",
    "\n",
    "print(\"\\nVector store created successfully\")\n",
    "print(f\"Number of vectors: {vectorstore.index.ntotal}\")"
   ]
  },
  {
   "cell_type": "code",
   "execution_count": 16,
   "id": "dd936f67",
   "metadata": {},
   "outputs": [
    {
     "name": "stdout",
     "output_type": "stream",
     "text": [
      "\n",
      "Vector store saved to disk at 'movie_product_vectorstore'\n"
     ]
    }
   ],
   "source": [
    "vectorstore.save_local(\"movie_product_vectorstore\")\n",
    "print(\"\\nVector store saved to disk at 'movie_product_vectorstore'\")"
   ]
  },
  {
   "cell_type": "code",
   "execution_count": 17,
   "id": "10d03bbc",
   "metadata": {},
   "outputs": [
    {
     "name": "stdout",
     "output_type": "stream",
     "text": [
      "\n",
      "Retriever configured\n"
     ]
    }
   ],
   "source": [
    "retriever = vectorstore.as_retriever(\n",
    "    search_type=\"similarity\",\n",
    "    search_kwargs={\"k\": 7}\n",
    ")\n",
    "\n",
    "print(\"\\nRetriever configured\")"
   ]
  },
  {
   "cell_type": "code",
   "execution_count": 18,
   "id": "f0c4539c",
   "metadata": {},
   "outputs": [
    {
     "name": "stdout",
     "output_type": "stream",
     "text": [
      "\n",
      "Test retrieval for: 'Tell me about action movies'\n",
      "Retrieved 7 documents\n",
      "\n",
      "First retrieved document:\n",
      "Movie: Faster\n",
      "Rank: 705\n",
      "Genre: Action,Crime,Drama\n",
      "Director: George Tillman Jr.\n",
      "Actors: Dwayne Johnson, Billy Bob Thornton, Maggie Grace, Mauricio Lopez\n",
      "Year: 2010\n",
      "Runtime: 98 minutes\n",
      "Rating: 6.5\n",
      "Votes: 83788\n",
      "Revenue: $23.23 million\n",
      "Metascore: 44\n",
      "Description: An ex-con gets on a series of apparently \n"
     ]
    }
   ],
   "source": [
    "test_query = \"Tell me about action movies\"\n",
    "retrieved_docs = retriever.invoke(test_query)\n",
    "\n",
    "print(f\"\\nTest retrieval for: '{test_query}'\")\n",
    "print(f\"Retrieved {len(retrieved_docs)} documents\")\n",
    "print(f\"\\nFirst retrieved document:\")\n",
    "print(retrieved_docs[0].page_content[:300])"
   ]
  },
  {
   "cell_type": "code",
   "execution_count": 19,
   "id": "f776e8b6",
   "metadata": {},
   "outputs": [
    {
     "name": "stdout",
     "output_type": "stream",
     "text": [
      "\n",
      "Tool created\n"
     ]
    }
   ],
   "source": [
    "class QueryInput(BaseModel):\n",
    "    query: str = Field(description=\"The search query to find relevant movies or products\")\n",
    "\n",
    "@tool(args_schema=QueryInput)\n",
    "def query_vector_database(query: str) -> str:\n",
    "    \"\"\"Search the movie and product database for relevant information\"\"\"\n",
    "    retrieved_docs = retriever.invoke(query)\n",
    "    context = \"\\n\\n---\\n\\n\".join([doc.page_content for doc in retrieved_docs])\n",
    "    return context\n",
    "\n",
    "print(\"\\nTool created\")"
   ]
  },
  {
   "cell_type": "code",
   "execution_count": 20,
   "id": "86c08619",
   "metadata": {},
   "outputs": [],
   "source": [
    "class AgentState(TypedDict):\n",
    "    messages: Annotated[Sequence[BaseMessage], add_messages]"
   ]
  },
  {
   "cell_type": "code",
   "execution_count": 21,
   "id": "8c715ead",
   "metadata": {},
   "outputs": [],
   "source": [
    "def agent(state: AgentState):\n",
    "    print(\"---CALL AGENT---\")\n",
    "    messages = state[\"messages\"]\n",
    "    \n",
    "    # Get the user query\n",
    "    user_query = messages[0].content\n",
    "    print(f\"Retrieving context for: {user_query}\")\n",
    "    \n",
    "    # Call tool directly to get context\n",
    "    tool_result = query_vector_database.invoke({\"query\": user_query})\n",
    "    \n",
    "    # Create a tool message\n",
    "    tool_msg = ToolMessage(\n",
    "        content=tool_result,\n",
    "        tool_call_id=\"retrieval_call\"\n",
    "    )\n",
    "    \n",
    "    return {\"messages\": [tool_msg]}"
   ]
  },
  {
   "cell_type": "code",
   "execution_count": 22,
   "id": "e0f00226",
   "metadata": {},
   "outputs": [],
   "source": [
    "def responder(state: AgentState):\n",
    "    print(\"---GENERATE RESPONSE---\")\n",
    "    messages = state[\"messages\"]\n",
    "    \n",
    "    # Get the tool result (retrieved context)\n",
    "    tool_message = messages[-1]\n",
    "    retrieved_context = tool_message.content\n",
    "    \n",
    "    # Get original question\n",
    "    question = messages[0].content\n",
    "    \n",
    "    system_prompt = \"\"\"You are a helpful assistant with access to a database of movies and products.\n",
    "Use the retrieved information to answer the user's question accurately and clearly.\n",
    "Provide specific details like names, numbers, and facts from the data.\n",
    "If the information is not available in the retrieved data, say so.\"\"\"\n",
    "    \n",
    "    llm = ChatGroq(model=\"llama-3.3-70b-versatile\", temperature=0)\n",
    "    \n",
    "    response = llm.invoke([\n",
    "        SystemMessage(content=system_prompt),\n",
    "        HumanMessage(content=f\"Context: {retrieved_context}\\n\\nQuestion: {question}\")\n",
    "    ])\n",
    "    \n",
    "    return {\"messages\": [response]}"
   ]
  },
  {
   "cell_type": "code",
   "execution_count": 23,
   "id": "b37c2a51",
   "metadata": {},
   "outputs": [
    {
     "name": "stdout",
     "output_type": "stream",
     "text": [
      "\n",
      "Workflow graph compiled successfully\n"
     ]
    }
   ],
   "source": [
    "workflow = StateGraph(AgentState)\n",
    "\n",
    "workflow.add_node(\"agent\", agent)\n",
    "workflow.add_node(\"responder\", responder)\n",
    "\n",
    "workflow.add_edge(START, \"agent\")\n",
    "workflow.add_edge(\"agent\", \"responder\")\n",
    "workflow.add_edge(\"responder\", END)\n",
    "\n",
    "graph = workflow.compile()\n",
    "\n",
    "print(\"\\nWorkflow graph compiled successfully\")"
   ]
  },
  {
   "cell_type": "code",
   "execution_count": 24,
   "id": "c58420de",
   "metadata": {},
   "outputs": [
    {
     "data": {
      "image/png": "[encoded data removed]",
      "text/plain": [
       "<IPython.core.display.Image object>"
      ]
     },
     "metadata": {},
     "output_type": "display_data"
    }
   ],
   "source": [
    "from IPython.display import Image, display\n",
    "\n",
    "try:\n",
    "    display(Image(graph.get_graph().draw_mermaid_png()))\n",
    "except:\n",
    "    print(\"Graph visualization not available\")"
   ]
  },
  {
   "cell_type": "code",
   "execution_count": 25,
   "id": "472b98a9",
   "metadata": {},
   "outputs": [
    {
     "name": "stdout",
     "output_type": "stream",
     "text": [
      "---CALL AGENT---\n",
      "Retrieving context for: What are the top rated action movies?\n",
      "---GENERATE RESPONSE---\n",
      "Query: What are the top rated action movies?\n",
      "\n",
      "Answer: Based on the provided data, the top-rated action movies are:\n",
      "\n",
      "1. The Bourne Ultimatum (2007) - Rating: 8.1\n",
      "2. John Wick (2014) - Rating: 7.2\n",
      "3. Furious Seven (2015) - Rating: 7.2\n",
      "4. RED (2010) - Rating: 7.1\n",
      "\n",
      "These movies have the highest ratings among the action movies listed in the data. Note that the ratings are based on the average votes from 283,282 to 525,700 users, depending on the movie.\n"
     ]
    }
   ],
   "source": [
    "query1 = \"What are the top rated action movies?\"\n",
    "response = graph.invoke({\"messages\": [HumanMessage(content=query1)]})\n",
    "print(f\"Query: {query1}\")\n",
    "print(f\"\\nAnswer: {response['messages'][-1].content}\")"
   ]
  },
  {
   "cell_type": "code",
   "execution_count": 50,
   "id": "6af35af1",
   "metadata": {},
   "outputs": [
    {
     "name": "stdout",
     "output_type": "stream",
     "text": [
      "---CALL AGENT---\n",
      "Retrieving context for: Tell me about Guardians of the Galaxy\n",
      "---GENERATE RESPONSE---\n",
      "\n",
      "Query: Tell me about Guardians of the Galaxy\n",
      "\n",
      "Answer: Guardians of the Galaxy is a 2014 science fiction film directed by James Gunn. The movie has a runtime of 121 minutes and features an ensemble cast, including Chris Pratt, Vin Diesel, Bradley Cooper, and Zoe Saldana. \n",
      "\n",
      "The film has received widespread critical acclaim, with a rating of 8.1 based on 757,074 votes. It has also been a commercial success, generating $333.13 million in revenue. The Metascore for the movie is 76, indicating generally favorable reviews.\n",
      "\n",
      "The movie's plot revolves around a group of intergalactic criminals who are forced to work together to stop a fanatical warrior from taking control of the universe. The film is classified under the genres of Action, Adventure, and Sci-Fi.\n",
      "\n",
      "Interestingly, James Gunn, the director of Guardians of the Galaxy, has also directed another movie in the database, Super (2010), which is a comedy-drama film with a significantly different tone and style.\n"
     ]
    }
   ],
   "source": [
    "query2 = \"Tell me about Guardians of the Galaxy\"\n",
    "response = graph.invoke({\"messages\": [HumanMessage(content=query2)]})\n",
    "print(f\"\\nQuery: {query2}\")\n",
    "print(f\"\\nAnswer: {response['messages'][-1].content}\")"
   ]
  },
  {
   "cell_type": "code",
   "execution_count": 26,
   "id": "aa45b5c0",
   "metadata": {},
   "outputs": [
    {
     "name": "stdout",
     "output_type": "stream",
     "text": [
      "---CALL AGENT---\n",
      "Retrieving context for: What electronics products are available?\n",
      "---GENERATE RESPONSE---\n",
      "\n",
      "Query: What electronics products are available?\n",
      "\n",
      "Answer: The available electronics products are:\n",
      "\n",
      "1. Webcam - a 1080p webcam with noise cancellation, priced at $89.99.\n",
      "2. Laptop - a high-performance laptop with 16GB RAM and 512GB SSD, priced at $999.99.\n",
      "3. Monitor - a 27-inch 4K monitor with HDR support, priced at $299.99.\n",
      "\n",
      "These products have a total value of $1389.97.\n"
     ]
    }
   ],
   "source": [
    "query3 = \"What electronics products are available?\"\n",
    "response = graph.invoke({\"messages\": [HumanMessage(content=query3)]})\n",
    "print(f\"\\nQuery: {query3}\")\n",
    "print(f\"\\nAnswer: {response['messages'][-1].content}\")"
   ]
  },
  {
   "cell_type": "code",
   "execution_count": 27,
   "id": "4965a853",
   "metadata": {},
   "outputs": [
    {
     "name": "stdout",
     "output_type": "stream",
     "text": [
      "---CALL AGENT---\n",
      "Retrieving context for: Which movies did James Gunn direct?\n",
      "---GENERATE RESPONSE---\n",
      "\n",
      "Query: Which movies did James Gunn direct?\n",
      "\n",
      "Answer: James Gunn directed the following movies:\n",
      "\n",
      "1. Guardians of the Galaxy (2014)\n",
      "2. Super (2010)\n",
      "3. Slither (2006)\n",
      "\n",
      "These three movies are listed in the provided data as being directed by James Gunn.\n"
     ]
    }
   ],
   "source": [
    "query4 = \"Which movies did James Gunn direct?\"\n",
    "response = graph.invoke({\"messages\": [HumanMessage(content=query4)]})\n",
    "print(f\"\\nQuery: {query4}\")\n",
    "print(f\"\\nAnswer: {response['messages'][-1].content}\")"
   ]
  },
  {
   "cell_type": "code",
   "execution_count": 28,
   "id": "34db30b6",
   "metadata": {},
   "outputs": [
    {
     "name": "stdout",
     "output_type": "stream",
     "text": [
      "---CALL AGENT---\n",
      "Retrieving context for: What horror movies from 2016 are in the database?\n",
      "---GENERATE RESPONSE---\n",
      "\n",
      "Query: What horror movies from 2016 are in the database?\n",
      "\n",
      "Answer: The horror movies from 2016 in the database are:\n",
      "\n",
      "1. The Black Room (Rank: 402, Genre: Horror, Director: Rolfe Kanefsky)\n",
      "2. 31 (Rank: 777, Genre: Horror, Thriller, Director: Rob Zombie)\n",
      "3. Friend Request (Rank: 532, Genre: Horror, Thriller, Director: Simon Verhoeven)\n"
     ]
    }
   ],
   "source": [
    "query5 = \"What horror movies from 2016 are in the database?\"\n",
    "response = graph.invoke({\"messages\": [HumanMessage(content=query5)]})\n",
    "print(f\"\\nQuery: {query5}\")\n",
    "print(f\"\\nAnswer: {response['messages'][-1].content}\")"
   ]
  },
  {
   "cell_type": "code",
   "execution_count": 29,
   "id": "8eafa864",
   "metadata": {},
   "outputs": [
    {
     "name": "stdout",
     "output_type": "stream",
     "text": [
      "---CALL AGENT---\n",
      "Retrieving context for: Which movie had the highest revenue?\n",
      "---GENERATE RESPONSE---\n",
      "\n",
      "Query: Which movie had the highest revenue?\n",
      "\n",
      "Answer: The movie with the highest revenue is Pirates of the Caribbean: On Stranger Tides, with a revenue of $241.06 million.\n"
     ]
    }
   ],
   "source": [
    "query6 = \"Which movie had the highest revenue?\"\n",
    "response = graph.invoke({\"messages\": [HumanMessage(content=query6)]})\n",
    "print(f\"\\nQuery: {query6}\")\n",
    "print(f\"\\nAnswer: {response['messages'][-1].content}\")"
   ]
  },
  {
   "cell_type": "code",
   "execution_count": 30,
   "id": "f30e85e1",
   "metadata": {},
   "outputs": [
    {
     "name": "stdout",
     "output_type": "stream",
     "text": [
      "---CALL AGENT---\n",
      "Retrieving context for: What's the title, director, and rating of the movie with Rank 1?\n",
      "---GENERATE RESPONSE---\n",
      "What's the title, director, and rating of the movie with Rank 1?\n",
      "The information for the movie with Rank 1 is not available in the retrieved data. The data only includes information for movies with ranks 747, 619, 970, 819, 119, 419, and 765. Therefore, I cannot provide the title, director, and rating of the movie with Rank 1.\n"
     ]
    }
   ],
   "source": [
    "q = \"What's the title, director, and rating of the movie with Rank 1?\"\n",
    "\n",
    "response = graph.invoke({\"messages\": [HumanMessage(content=q)]})\n",
    "\n",
    "print(q)\n",
    "print(response['messages'][-1].content)"
   ]
  },
  {
   "cell_type": "code",
   "execution_count": null,
   "id": "874d0d30",
   "metadata": {},
   "outputs": [],
   "source": []
  }
 ],
 "metadata": {
  "kernelspec": {
   "display_name": "pocexcel",
   "language": "python",
   "name": "python3"
  },
  "language_info": {
   "codemirror_mode": {
    "name": "ipython",
    "version": 3
   },
   "file_extension": ".py",
   "mimetype": "text/x-python",
   "name": "python",
   "nbconvert_exporter": "python",
   "pygments_lexer": "ipython3",
   "version": "3.12.9"
  }
 },
 "nbformat": 4,
 "nbformat_minor": 5
}
