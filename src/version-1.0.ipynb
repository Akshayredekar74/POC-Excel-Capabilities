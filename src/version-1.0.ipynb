{
 "cells": [
  {
   "cell_type": "markdown",
   "id": "0185747e",
   "metadata": {},
   "source": [
    "### **LLamaindex and SQLite3**"
   ]
  },
  {
   "cell_type": "code",
   "execution_count": null,
   "id": "a3ecffa4",
   "metadata": {},
   "outputs": [],
   "source": [
    "import pandas as pd"
   ]
  },
  {
   "cell_type": "code",
   "execution_count": null,
   "id": "82c2a5f4-43a9-48c3-9474-89b23691c82f",
   "metadata": {},
   "outputs": [],
   "source": [
    "data = pd.read_excel(r\"C:\\Users\\AkshayRedekar\\OneDrive - VE3\\Documents\\POC-EXCEL\\electronic_data.xlsx\")"
   ]
  },
  {
   "cell_type": "code",
   "execution_count": 3,
   "id": "5e65e526-ad26-454e-874d-369170fb1e19",
   "metadata": {},
   "outputs": [
    {
     "data": {
      "text/html": [
       "<div>\n",
       "<style scoped>\n",
       "    .dataframe tbody tr th:only-of-type {\n",
       "        vertical-align: middle;\n",
       "    }\n",
       "\n",
       "    .dataframe tbody tr th {\n",
       "        vertical-align: top;\n",
       "    }\n",
       "\n",
       "    .dataframe thead th {\n",
       "        text-align: right;\n",
       "    }\n",
       "</style>\n",
       "<table border=\"1\" class=\"dataframe\">\n",
       "  <thead>\n",
       "    <tr style=\"text-align: right;\">\n",
       "      <th></th>\n",
       "      <th>Order ID</th>\n",
       "      <th>Product</th>\n",
       "      <th>Quantity Ordered</th>\n",
       "      <th>Price Each</th>\n",
       "      <th>Order Date</th>\n",
       "      <th>Purchase Address</th>\n",
       "    </tr>\n",
       "  </thead>\n",
       "  <tbody>\n",
       "    <tr>\n",
       "      <th>0</th>\n",
       "      <td>141234</td>\n",
       "      <td>iPhone</td>\n",
       "      <td>1</td>\n",
       "      <td>700.00</td>\n",
       "      <td>01/22/19 21:25</td>\n",
       "      <td>944 Walnut St, Boston, MA 02215</td>\n",
       "    </tr>\n",
       "    <tr>\n",
       "      <th>1</th>\n",
       "      <td>141235</td>\n",
       "      <td>Lightning Charging Cable</td>\n",
       "      <td>1</td>\n",
       "      <td>14.95</td>\n",
       "      <td>01/28/19 14:15</td>\n",
       "      <td>185 Maple St, Portland, OR 97035</td>\n",
       "    </tr>\n",
       "    <tr>\n",
       "      <th>2</th>\n",
       "      <td>141236</td>\n",
       "      <td>Wired Headphones</td>\n",
       "      <td>2</td>\n",
       "      <td>11.99</td>\n",
       "      <td>01/17/19 13:33</td>\n",
       "      <td>538 Adams St, San Francisco, CA 94016</td>\n",
       "    </tr>\n",
       "    <tr>\n",
       "      <th>3</th>\n",
       "      <td>141237</td>\n",
       "      <td>27in FHD Monitor</td>\n",
       "      <td>1</td>\n",
       "      <td>149.99</td>\n",
       "      <td>01/05/19 20:33</td>\n",
       "      <td>738 10th St, Los Angeles, CA 90001</td>\n",
       "    </tr>\n",
       "    <tr>\n",
       "      <th>4</th>\n",
       "      <td>141238</td>\n",
       "      <td>Wired Headphones</td>\n",
       "      <td>1</td>\n",
       "      <td>11.99</td>\n",
       "      <td>01/25/19 11:59</td>\n",
       "      <td>387 10th St, Austin, TX 73301</td>\n",
       "    </tr>\n",
       "  </tbody>\n",
       "</table>\n",
       "</div>"
      ],
      "text/plain": [
       "   Order ID                   Product  Quantity Ordered  Price Each  \\\n",
       "0    141234                    iPhone                 1      700.00   \n",
       "1    141235  Lightning Charging Cable                 1       14.95   \n",
       "2    141236          Wired Headphones                 2       11.99   \n",
       "3    141237          27in FHD Monitor                 1      149.99   \n",
       "4    141238          Wired Headphones                 1       11.99   \n",
       "\n",
       "       Order Date                       Purchase Address  \n",
       "0  01/22/19 21:25        944 Walnut St, Boston, MA 02215  \n",
       "1  01/28/19 14:15       185 Maple St, Portland, OR 97035  \n",
       "2  01/17/19 13:33  538 Adams St, San Francisco, CA 94016  \n",
       "3  01/05/19 20:33     738 10th St, Los Angeles, CA 90001  \n",
       "4  01/25/19 11:59          387 10th St, Austin, TX 73301  "
      ]
     },
     "execution_count": 3,
     "metadata": {},
     "output_type": "execute_result"
    }
   ],
   "source": [
    "data.head()"
   ]
  },
  {
   "cell_type": "code",
   "execution_count": null,
   "id": "d15e6d5a-9210-460b-aa38-bf50f3eb4dab",
   "metadata": {},
   "outputs": [],
   "source": []
  },
  {
   "cell_type": "code",
   "execution_count": 4,
   "id": "6c22c22f-7b49-4878-9f83-de4da5bb137f",
   "metadata": {},
   "outputs": [
    {
     "data": {
      "text/plain": [
       "200"
      ]
     },
     "execution_count": 4,
     "metadata": {},
     "output_type": "execute_result"
    }
   ],
   "source": [
    "import sqlite3\n",
    "conn = sqlite3.connect(\":memory:\")\n",
    "data.to_sql(\"electronics\", conn, index=False, if_exists=\"replace\")\n"
   ]
  },
  {
   "cell_type": "code",
   "execution_count": 5,
   "id": "92d2c2bf-6810-45f2-82a0-36a5c8bbf389",
   "metadata": {},
   "outputs": [
    {
     "data": {
      "text/plain": [
       "200"
      ]
     },
     "execution_count": 5,
     "metadata": {},
     "output_type": "execute_result"
    }
   ],
   "source": [
    "import pandas as pd\n",
    "import sqlite3\n",
    "\n",
    "data = pd.read_excel(r\"C:\\Users\\AkshayRedekar\\OneDrive - VE3\\Documents\\POC-EXCEL\\electronic_data.xlsx\")\n",
    "conn = sqlite3.connect(\":memory:\")\n",
    "data.to_sql(\"electronics\", conn, index=False, if_exists=\"replace\")\n"
   ]
  },
  {
   "cell_type": "code",
   "execution_count": 6,
   "id": "f0016d2d-1f05-497b-ae65-6c26e7557a0e",
   "metadata": {},
   "outputs": [
    {
     "name": "stdout",
     "output_type": "stream",
     "text": [
      "\n",
      "🧱 Table: electronics\n",
      " - Order ID (INTEGER)\n",
      " - Product (TEXT)\n",
      " - Quantity Ordered (INTEGER)\n",
      " - Price Each (REAL)\n",
      " - Order Date (TEXT)\n",
      " - Purchase Address (TEXT)\n"
     ]
    }
   ],
   "source": [
    "cursor = conn.cursor()\n",
    "cursor.execute(\"SELECT name FROM sqlite_master WHERE type='table';\")\n",
    "tables = cursor.fetchall()\n",
    "\n",
    "for table in tables:\n",
    "    tname = table[0]\n",
    "    cursor.execute(f\"PRAGMA table_info({tname});\")\n",
    "    schema = cursor.fetchall()\n",
    "    print(f\"\\n🧱 Table: {tname}\")\n",
    "    for col in schema:\n",
    "        print(f\" - {col[1]} ({col[2]})\")\n"
   ]
  },
  {
   "cell_type": "code",
   "execution_count": 7,
   "id": "ddbbb453-69e8-446a-945b-7c79fe9d23da",
   "metadata": {},
   "outputs": [],
   "source": [
    "# ! uv pip install llama-index\n",
    "# ! uv pip install llama-index-llms-groq\n",
    "# ! uv pip install llama-index-readers-pandas-ai\n",
    "# ! uv pip install llama-index-storage-chat-store-sqlite\n",
    "# ! uv pip install pandas openpyxl numpy python-dotenv pysqlite3-binary\n",
    "# ! uv pip install tqdm"
   ]
  },
  {
   "cell_type": "code",
   "execution_count": 8,
   "id": "7bcb4910-cbb7-4437-8bc4-286467e0afa7",
   "metadata": {},
   "outputs": [
    {
     "data": {
      "text/plain": [
       "True"
      ]
     },
     "execution_count": 8,
     "metadata": {},
     "output_type": "execute_result"
    }
   ],
   "source": [
    "from dotenv import load_dotenv\n",
    "load_dotenv()"
   ]
  },
  {
   "cell_type": "code",
   "execution_count": 9,
   "id": "f33ad4fc-b7a9-4053-9e40-d205858892cb",
   "metadata": {},
   "outputs": [
    {
     "data": {
      "text/plain": [
       "200"
      ]
     },
     "execution_count": 9,
     "metadata": {},
     "output_type": "execute_result"
    }
   ],
   "source": [
    "import pandas as pd\n",
    "import sqlite3\n",
    "\n",
    "excel_path = r\"C:\\Users\\AkshayRedekar\\OneDrive - VE3\\Documents\\POC-EXCEL\\electronic_data.xlsx\"\n",
    "data = pd.read_excel(excel_path)\n",
    "\n",
    "conn = sqlite3.connect(\":memory:\")\n",
    "data.to_sql(\"electronics\", conn, index=False, if_exists=\"replace\")\n"
   ]
  },
  {
   "cell_type": "code",
   "execution_count": 11,
   "id": "d1c9c7c2-cae8-43ab-a31c-8cad763e26f2",
   "metadata": {},
   "outputs": [
    {
     "ename": "ModuleNotFoundError",
     "evalue": "No module named 'llama_index.embeddings.gemini'",
     "output_type": "error",
     "traceback": [
      "\u001b[31m---------------------------------------------------------------------------\u001b[39m",
      "\u001b[31mModuleNotFoundError\u001b[39m                       Traceback (most recent call last)",
      "\u001b[36mCell\u001b[39m\u001b[36m \u001b[39m\u001b[32mIn[11]\u001b[39m\u001b[32m, line 5\u001b[39m\n\u001b[32m      3\u001b[39m \u001b[38;5;28;01mimport\u001b[39;00m\u001b[38;5;250m \u001b[39m\u001b[34;01msqlite3\u001b[39;00m\n\u001b[32m      4\u001b[39m \u001b[38;5;28;01mfrom\u001b[39;00m\u001b[38;5;250m \u001b[39m\u001b[34;01mllama_index\u001b[39;00m\u001b[34;01m.\u001b[39;00m\u001b[34;01mllms\u001b[39;00m\u001b[34;01m.\u001b[39;00m\u001b[34;01mgroq\u001b[39;00m\u001b[38;5;250m \u001b[39m\u001b[38;5;28;01mimport\u001b[39;00m Groq\n\u001b[32m----> \u001b[39m\u001b[32m5\u001b[39m \u001b[38;5;28;01mfrom\u001b[39;00m\u001b[38;5;250m \u001b[39m\u001b[34;01mllama_index\u001b[39;00m\u001b[34;01m.\u001b[39;00m\u001b[34;01membeddings\u001b[39;00m\u001b[34;01m.\u001b[39;00m\u001b[34;01mgemini\u001b[39;00m\u001b[38;5;250m \u001b[39m\u001b[38;5;28;01mimport\u001b[39;00m GeminiEmbedding\n\u001b[32m      6\u001b[39m \u001b[38;5;28;01mfrom\u001b[39;00m\u001b[38;5;250m \u001b[39m\u001b[34;01mllama_index\u001b[39;00m\u001b[34;01m.\u001b[39;00m\u001b[34;01mcore\u001b[39;00m\u001b[38;5;250m \u001b[39m\u001b[38;5;28;01mimport\u001b[39;00m Settings, SQLDatabase, VectorStoreIndex, Document\n\u001b[32m      8\u001b[39m \u001b[38;5;28;01mfrom\u001b[39;00m\u001b[38;5;250m \u001b[39m\u001b[34;01mdotenv\u001b[39;00m\u001b[38;5;250m \u001b[39m\u001b[38;5;28;01mimport\u001b[39;00m load_dotenv\n",
      "\u001b[31mModuleNotFoundError\u001b[39m: No module named 'llama_index.embeddings.gemini'"
     ]
    }
   ],
   "source": [
    "import os\n",
    "import pandas as pd\n",
    "import sqlite3\n",
    "from llama_index.llms.groq import Groq\n",
    "from llama_index.embeddings.gemini import GeminiEmbedding\n",
    "from llama_index.core import Settings, SQLDatabase, VectorStoreIndex, Document\n",
    "\n",
    "from dotenv import load_dotenv\n",
    "\n",
    "load_dotenv()\n",
    "\n",
    "# Initialize models\n",
    "llm = Groq(model=\"openai/gpt-oss-20b\")\n",
    "embed_model = GeminiEmbedding(model_name=\"models/embedding-001\")\n",
    "\n",
    "# Configure LlamaIndex settings\n",
    "Settings.llm = llm\n",
    "Settings.embed_model = embed_model\n",
    "\n",
    "# Load Excel data into SQLite\n",
    "df = pd.read_excel(r\"C:\\Users\\AkshayRedekar\\OneDrive - VE3\\Documents\\POC-EXCEL\\electronic_data.xlsx\")\n",
    "conn = sqlite3.connect(\":memory:\")\n",
    "df.to_sql(\"electronics\", conn, index=False, if_exists=\"replace\")\n"
   ]
  },
  {
   "cell_type": "code",
   "execution_count": null,
   "id": "aecb77fd-7a95-4823-8834-4f3ffa5eae81",
   "metadata": {},
   "outputs": [],
   "source": [
    "# Wrap SQLite DB\n",
    "sql_db = SQLDatabase(conn)\n",
    "\n",
    "# Build the index\n",
    "documents = [Document(text=row.to_string()) for _, row in df.iterrows()]\n",
    "index = VectorStoreIndex.from_documents(documents)\n",
    "\n",
    "# Create a query engine\n",
    "query_engine = index.as_query_engine()\n",
    "\n",
    "# Example: schema discovery\n",
    "schema_summary = query_engine.query(\"List all tables and their columns in detail.\")\n",
    "print(schema_summary)\n",
    "\n",
    "# Example: user question\n",
    "response = query_engine.query(\"What is the most expensive product?\")\n",
    "print(response)"
   ]
  },
  {
   "cell_type": "code",
   "execution_count": null,
   "id": "70d610af-4386-4c8a-8fa6-253ca7b19aee",
   "metadata": {},
   "outputs": [],
   "source": []
  },
  {
   "cell_type": "code",
   "execution_count": null,
   "id": "760f36ab-366b-40c8-bd6a-da1fd447e090",
   "metadata": {},
   "outputs": [],
   "source": []
  }
 ],
 "metadata": {
  "kernelspec": {
   "display_name": "POC-EXCEL",
   "language": "python",
   "name": "python3"
  },
  "language_info": {
   "codemirror_mode": {
    "name": "ipython",
    "version": 3
   },
   "file_extension": ".py",
   "mimetype": "text/x-python",
   "name": "python",
   "nbconvert_exporter": "python",
   "pygments_lexer": "ipython3",
   "version": "3.13.7"
  }
 },
 "nbformat": 4,
 "nbformat_minor": 5
}
