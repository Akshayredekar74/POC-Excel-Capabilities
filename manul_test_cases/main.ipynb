{
 "cells": [
  {
   "cell_type": "code",
   "execution_count": null,
   "id": "a94bc300",
   "metadata": {},
   "outputs": [],
   "source": [
    "import pandas as pd"
   ]
  },
  {
   "cell_type": "code",
   "execution_count": 6,
   "id": "c7d6a8dd",
   "metadata": {},
   "outputs": [
    {
     "name": "stdout",
     "output_type": "stream",
     "text": [
      "Shape: (5339, 13)\n",
      "Columns: ['Account_Num', 'Facility Name', 'Address', 'City', 'State', 'ZIP Code', 'County Name', 'Phone Number', 'Hospital Type', 'Hospital Ownership', 'Unnamed: 10', 'Unnamed: 11', 'Unnamed: 12']\n"
     ]
    }
   ],
   "source": [
    "\n",
    "file_path = r\"C:\\Users\\AkshayRedekar\\Downloads\\hospitaldata1.xlsx\"\n",
    "\n",
    "df = pd.read_excel(file_path)\n",
    "\n",
    "\n",
    "print(f\"Shape: {df.shape}\")\n",
    "print(f\"Columns: {list(df.columns)}\")\n"
   ]
  },
  {
   "cell_type": "code",
   "execution_count": 7,
   "id": "5b029d0a",
   "metadata": {},
   "outputs": [
    {
     "name": "stdout",
     "output_type": "stream",
     "text": [
      "   Account_Num                           Facility Name  \\\n",
      "0        10605                  SAGE MEMORIAL HOSPITAL   \n",
      "1        24250             WOODRIDGE BEHAVIORAL CENTER   \n",
      "2        10341                DOUGLAS GARDENS HOSPITAL   \n",
      "3        81101       SUNCOAST BEHAVIORAL HEALTH CENTER   \n",
      "4        39835                TREASURE VALLEY HOSPITAL   \n",
      "5        48460                  INTERMOUNTAIN HOSPITAL   \n",
      "6        30098  CHOATE MENTAL HEALTH & DEVELOPMENT CTR   \n",
      "\n",
      "                       Address          City State ZIP Code County Name  \\\n",
      "0    STATE ROUTE 264 SOUTH 191        GANADO    AZ    86505         NaN   \n",
      "1         600 NORTH 7TH STREET  WEST MEMPHIS    AR    72301  CRITTENDEN   \n",
      "2              5200 NE 2ND AVE         MIAMI    FL    33137  MIAMI-DADE   \n",
      "3               4480 51ST ST W     BRADENTON    FL    34210     MANATEE   \n",
      "4     8800 WEST EMERALD STREET         BOISE    ID    83704         ADA   \n",
      "5  303 NORTH ALLUMBAUGH STREET         BOISE    ID    83704         ADA   \n",
      "6               1000 N MAIN ST          ANNA    IL    62906       UNION   \n",
      "\n",
      "     Phone Number              Hospital Type              Hospital Ownership  \\\n",
      "0  (928) 755-4541  Critical Access Hospitals  Voluntary non-profit - Private   \n",
      "1  (870) 394-4113                Psychiatric                     Proprietary   \n",
      "2  (305) 751-8626       Acute Care Hospitals  Voluntary non-profit - Private   \n",
      "3  (941) 792-2222                Psychiatric                     Proprietary   \n",
      "4  (208) 373-5000       Acute Care Hospitals                     Proprietary   \n",
      "5  (208) 377-8400                Psychiatric                     Proprietary   \n",
      "6  (618) 833-5161                Psychiatric              Government - State   \n",
      "\n",
      "  Unnamed: 10 Unnamed: 11 Unnamed: 12  \n",
      "0         NaN         NaN         NaN  \n",
      "1         NaN         NaN         NaN  \n",
      "2         NaN         NaN         NaN  \n",
      "3         NaN         NaN         NaN  \n",
      "4         NaN         NaN         NaN  \n",
      "5         NaN         NaN         NaN  \n",
      "6         NaN         NaN         NaN  \n"
     ]
    }
   ],
   "source": [
    "# Display the first 7 rows of the dataset\n",
    "df_head7 = df.head(7)\n",
    "print(df_head7)\n"
   ]
  },
  {
   "cell_type": "code",
   "execution_count": 16,
   "id": "c8f818d5-fa45-4b0d-84cc-ea7124a4e288",
   "metadata": {},
   "outputs": [
    {
     "name": "stdout",
     "output_type": "stream",
     "text": [
      "Hospital Type\n",
      "Acute Care Hospitals                  3126\n",
      "Critical Access Hospitals             1263\n",
      "Psychiatric                            504\n",
      "Childrens                               84\n",
      "Acute Care - Department of Defense      35\n",
      "                                      ... \n",
      "(770) 267-8461                           1\n",
      "(469) 839-6778                           1\n",
      "(809) 776-8311                           1\n",
      "(302) 733-1000                           1\n",
      "(787) 757-1800                           1\n",
      "Name: count, Length: 332, dtype: int64\n"
     ]
    },
    {
     "data": {
      "text/plain": [
       "332"
      ]
     },
     "execution_count": 16,
     "metadata": {},
     "output_type": "execute_result"
    }
   ],
   "source": [
    "# Count hospitals per type\n",
    "hospital_type_counts = df['Hospital Type'].value_counts()\n",
    "print(hospital_type_counts)\n",
    "len(hospital_type_counts)\n"
   ]
  },
  {
   "cell_type": "code",
   "execution_count": 17,
   "id": "93025f57-6ab6-408b-a599-5d8261965ee7",
   "metadata": {},
   "outputs": [
    {
     "name": "stdout",
     "output_type": "stream",
     "text": [
      "Hospital Type\n",
      "Acute Care Hospitals                  3126\n",
      "Critical Access Hospitals             1263\n",
      "Psychiatric                            504\n",
      "Childrens                               84\n",
      "Acute Care - Department of Defense      35\n",
      "(318) 442-3163                           1\n",
      "(402) 376-2525                           1\n",
      "(941) 775-4500                           1\n",
      "(434) 392-8811                           1\n",
      "(785) 776-2831                           1\n",
      "Name: count, dtype: int64\n"
     ]
    }
   ],
   "source": [
    "# Display only the first 10 hospital types with their counts\n",
    "top_10_hospital_type_counts = hospital_type_counts.head(10)\n",
    "print(top_10_hospital_type_counts)"
   ]
  },
  {
   "cell_type": "code",
   "execution_count": null,
   "id": "a48ae5c4-7d96-482d-bab8-1c56737b7c00",
   "metadata": {},
   "outputs": [],
   "source": [
    "# Check if there is a hospital located at the address “8800 WEST EMERALD STREET”. \n",
    "If such a hospital exists, display all its details"
   ]
  },
  {
   "cell_type": "code",
   "execution_count": 18,
   "id": "7707a8e7-6a2e-44c8-af33-66600754fe77",
   "metadata": {},
   "outputs": [
    {
     "name": "stdout",
     "output_type": "stream",
     "text": [
      "   Account_Num             Facility Name                   Address   City  \\\n",
      "4        39835  TREASURE VALLEY HOSPITAL  8800 WEST EMERALD STREET  BOISE   \n",
      "\n",
      "  State ZIP Code County Name    Phone Number         Hospital Type  \\\n",
      "4    ID    83704         ADA  (208) 373-5000  Acute Care Hospitals   \n",
      "\n",
      "  Hospital Ownership Unnamed: 10 Unnamed: 11 Unnamed: 12  \n",
      "4        Proprietary         NaN         NaN         NaN  \n"
     ]
    }
   ],
   "source": [
    "# Convert address column to uppercase for consistent comparison\n",
    "df['Address'] = df['Address'].astype(str).str.upper()\n",
    "\n",
    "# Filter rows where the address matches exactly\n",
    "hospital_at_address = df[df['Address'] == \"8800 WEST EMERALD STREET\"]\n",
    "\n",
    "# Display the result\n",
    "print(hospital_at_address)\n"
   ]
  },
  {
   "cell_type": "code",
   "execution_count": 19,
   "id": "a4e75e90-5b47-4ba8-a437-badeb7ab762d",
   "metadata": {},
   "outputs": [
    {
     "name": "stdout",
     "output_type": "stream",
     "text": [
      "      Account_Num                              Facility Name  \\\n",
      "2           10341                   DOUGLAS GARDENS HOSPITAL   \n",
      "130         39523  SHANDS LAKE SHORE REGIONAL MEDICAL CENTER   \n",
      "267         70555                ASCENSION SACRED HEART GULF   \n",
      "302         51198            MORTON PLANT NORTH BAY HOSPITAL   \n",
      "464         54407              TALLAHASSEE MEMORIAL HOSPITAL   \n",
      "...           ...                                        ...   \n",
      "4986        30999                   DESOTO MEMORIAL HOSPITAL   \n",
      "4993        38516                  BAPTIST HOSPITAL OF MIAMI   \n",
      "5074        55436                     TAMPA GENERAL HOSPITAL   \n",
      "5224        39512       NORTHWEST FLORIDA COMMUNITY HOSPITAL   \n",
      "5332        16415                          MARINERS HOSPITAL   \n",
      "\n",
      "                     Address             City State ZIP Code   County Name  \\\n",
      "2            5200 NE 2ND AVE            MIAMI    FL    33137    MIAMI-DADE   \n",
      "130       368 NE FRANKLIN ST        LAKE CITY    FL    32055      COLUMBIA   \n",
      "267            3801 E HWY 98   PORT SAINT JOE    FL    32456          GULF   \n",
      "302          6600 MADISON ST  NEW PORT RICHEY    FL    34652         PASCO   \n",
      "464       1300 MICCOSUKEE RD      TALLAHASSEE    FL    32308          LEON   \n",
      "...                      ...              ...   ...      ...           ...   \n",
      "4986        900 N ROBERT AVE          ARCADIA    FL    34265       DE SOTO   \n",
      "4993       8900 N KENDALL DR            MIAMI    FL    33176    MIAMI-DADE   \n",
      "5074     1 TAMPA GENERAL CIR            TAMPA    FL    33606  HILLSBOROUGH   \n",
      "5224       1360 BRICKYARD RD          CHIPLEY    FL    32428    WASHINGTON   \n",
      "5332  91500 OVERSEAS HIGHWAY        TAVERNIER    FL    33070        MONROE   \n",
      "\n",
      "        Phone Number              Hospital Type  \\\n",
      "2     (305) 751-8626       Acute Care Hospitals   \n",
      "130   (386) 292-8000       Acute Care Hospitals   \n",
      "267   (850) 229-5600       Acute Care Hospitals   \n",
      "302   (727) 842-8468       Acute Care Hospitals   \n",
      "464   (850) 431-5380       Acute Care Hospitals   \n",
      "...              ...                        ...   \n",
      "4986  (863) 494-3535       Acute Care Hospitals   \n",
      "4993  (786) 596-1960       Acute Care Hospitals   \n",
      "5074  (813) 844-7000       Acute Care Hospitals   \n",
      "5224  (850) 638-1610  Critical Access Hospitals   \n",
      "5332  (305) 434-3000  Critical Access Hospitals   \n",
      "\n",
      "                  Hospital Ownership Unnamed: 10 Unnamed: 11 Unnamed: 12  \n",
      "2     Voluntary non-profit - Private         NaN         NaN         NaN  \n",
      "130   Voluntary non-profit - Private         NaN         NaN         NaN  \n",
      "267   Voluntary non-profit - Private         NaN         NaN         NaN  \n",
      "302   Voluntary non-profit - Private         NaN         NaN         NaN  \n",
      "464   Voluntary non-profit - Private         NaN         NaN         NaN  \n",
      "...                              ...         ...         ...         ...  \n",
      "4986  Voluntary non-profit - Private         NaN         NaN         NaN  \n",
      "4993  Voluntary non-profit - Private         NaN         NaN         NaN  \n",
      "5074  Voluntary non-profit - Private         NaN         NaN         NaN  \n",
      "5224  Voluntary non-profit - Private         NaN         NaN         NaN  \n",
      "5332  Voluntary non-profit - Private         NaN         NaN         NaN  \n",
      "\n",
      "[67 rows x 13 columns]\n"
     ]
    }
   ],
   "source": [
    "# Ensure column values are consistent in case (uppercase)\n",
    "df['State'] = df['State'].astype(str).str.upper()\n",
    "df['Hospital Ownership'] = df['Hospital Ownership'].astype(str).str.strip()\n",
    "\n",
    "# Filter hospitals where state is 'FL' and ownership type is 'Voluntary non-profit - Private'\n",
    "florida_voluntary_hospitals = df[\n",
    "    (df['State'] == 'FL') &\n",
    "    (df['Hospital Ownership'] == 'Voluntary non-profit - Private')\n",
    "]\n",
    "\n",
    "# Display the filtered hospitals\n",
    "print(florida_voluntary_hospitals)\n"
   ]
  },
  {
   "cell_type": "code",
   "execution_count": 20,
   "id": "05f276b0-331b-4dd9-bbcd-685cfbf945cc",
   "metadata": {},
   "outputs": [
    {
     "name": "stdout",
     "output_type": "stream",
     "text": [
      "                    State Hospital Ownership  Hospital Count\n",
      "0            100 H STREET     (919) 575-7240               1\n",
      "1          3307 BARADA ST     (402) 245-2428               1\n",
      "2               3RD FLOOR     (740) 922-7499               1\n",
      "3   4800 HOSPITAL PARKWAY     (402) 228-3344               1\n",
      "4      6901 NORTH 72ND ST            DOUGLAS               1\n",
      "5                    BLVD     (575) 769-7155               1\n",
      "6                  C & D)     (575) 589-3000               1\n",
      "7                 KM 47 7     (787) 853-3322               1\n",
      "8               NORTHWEST     (580) 223-5400               1\n",
      "9               SUITE 100     (317) 744-9200               1\n"
     ]
    }
   ],
   "source": [
    "# Group by both 'State' and 'Hospital Ownership' and count hospitals in each group\n",
    "hospital_counts = (\n",
    "    df.groupby(['State', 'Hospital Ownership'])\n",
    "      .size()\n",
    "      .reset_index(name='Hospital Count')\n",
    "      .sort_values(by=['State', 'Hospital Count'], ascending=[True, False])\n",
    ")\n",
    "\n",
    "# Display the first 10 results for clarity\n",
    "print(hospital_counts.head(10))\n"
   ]
  },
  {
   "cell_type": "code",
   "execution_count": 22,
   "id": "aade7040-9dab-4c58-9196-320f0befc5af",
   "metadata": {},
   "outputs": [
    {
     "name": "stdout",
     "output_type": "stream",
     "text": [
      "Hospitals with missing County Names:\n",
      "            Facility Name                    Address    City State ZIP Code  \\\n",
      "0  SAGE MEMORIAL HOSPITAL  STATE ROUTE 264 SOUTH 191  GANADO    AZ    86505   \n",
      "\n",
      "  County Name  \n",
      "0         NaN  \n",
      "\n",
      "Hospitals with duplicate County Names:\n",
      "                             Facility Name                      Address  \\\n",
      "1              WOODRIDGE BEHAVIORAL CENTER         600 NORTH 7TH STREET   \n",
      "2                 DOUGLAS GARDENS HOSPITAL              5200 NE 2ND AVE   \n",
      "3        SUNCOAST BEHAVIORAL HEALTH CENTER               4480 51ST ST W   \n",
      "4                 TREASURE VALLEY HOSPITAL     8800 WEST EMERALD STREET   \n",
      "5                   INTERMOUNTAIN HOSPITAL  303 NORTH ALLUMBAUGH STREET   \n",
      "6   CHOATE MENTAL HEALTH & DEVELOPMENT CTR               1000 N MAIN ST   \n",
      "8                   SPRING HARBOR HOSPITAL             123 ANDOVER ROAD   \n",
      "10         CHOCTAW REGIONAL MEDICAL CENTER               8613 MS HWY 12   \n",
      "11             ST LOUIS CHILDRENS HOSPITAL          ONE CHILDRENS PLACE   \n",
      "12           NEW HAMPSHIRE HOSP-PSYCH UNIT            36 CLINTON STREET   \n",
      "\n",
      "            City State ZIP Code     County Name  \n",
      "1   WEST MEMPHIS    AR    72301      CRITTENDEN  \n",
      "2          MIAMI    FL    33137      MIAMI-DADE  \n",
      "3      BRADENTON    FL    34210         MANATEE  \n",
      "4          BOISE    ID    83704             ADA  \n",
      "5          BOISE    ID    83704             ADA  \n",
      "6           ANNA    IL    62906           UNION  \n",
      "8      WESTBROOK    ME     4092      CUMBERLAND  \n",
      "10      ACKERMAN    MS    39735         CHOCTAW  \n",
      "11   SAINT LOUIS    MO    63110  ST. LOUIS CITY  \n",
      "12       CONCORD    NH     3301       MERRIMACK  \n"
     ]
    }
   ],
   "source": [
    "# Detect missing County Names\n",
    "missing_county = df[df['County Name'].isnull() | (df['County Name'].astype(str).str.strip() == '')]\n",
    "print(\"Hospitals with missing County Names:\")\n",
    "print(missing_county[['Facility Name', 'Address', 'City', 'State', 'ZIP Code', 'County Name']].head(10))\n",
    "\n",
    "# Detect duplicate County Names\n",
    "duplicate_county = df[df.duplicated(subset=['County Name'], keep=False)]\n",
    "print(\"\\nHospitals with duplicate County Names:\")\n",
    "print(duplicate_county[['Facility Name', 'Address', 'City', 'State', 'ZIP Code', 'County Name']].head(10))\n"
   ]
  },
  {
   "cell_type": "code",
   "execution_count": 23,
   "id": "38d8131e-ff3e-4b2d-85fa-afd786318fce",
   "metadata": {},
   "outputs": [
    {
     "name": "stdout",
     "output_type": "stream",
     "text": [
      "Top 10 states by % of psychiatric hospitals:\n",
      "       Total  Psychiatric  Percentage\n",
      "State                                \n",
      "DE         9            5       55.56\n",
      "LA       133           27       20.30\n",
      "MA        70           13       18.57\n",
      "IN       142           26       18.31\n",
      "NJ        79           14       17.72\n",
      "CT        34            6       17.65\n",
      "RI        12            2       16.67\n",
      "NV        43            7       16.28\n",
      "NY       180           27       15.00\n",
      "AZ        82           12       14.63\n",
      "\n",
      "State with the highest percentage of psychiatric hospitals:\n",
      "State: DE\n",
      "Total           9.00\n",
      "Psychiatric     5.00\n",
      "Percentage     55.56\n"
     ]
    }
   ],
   "source": [
    "import pandas as pd\n",
    "\n",
    "# Ensure relevant columns are strings and normalize state values\n",
    "df['State'] = df['State'].astype(str).str.upper()\n",
    "df['Hospital Type'] = df['Hospital Type'].astype(str)\n",
    "\n",
    "# Create mask for psychiatric hospitals (case-insensitive substring match)\n",
    "psy_mask = df['Hospital Type'].str.contains('psychiatric', case=False, na=False)\n",
    "\n",
    "# Total hospitals per state\n",
    "total_per_state = df.groupby('State').size().rename('Total').astype(int)\n",
    "\n",
    "# Psychiatric hospitals per state\n",
    "psy_per_state = df[psy_mask].groupby('State').size().rename('Psychiatric').astype(int)\n",
    "\n",
    "# Combine into one DataFrame and compute percentage\n",
    "state_stats = pd.concat([total_per_state, psy_per_state], axis=1).fillna(0)\n",
    "state_stats['Psychiatric'] = state_stats['Psychiatric'].astype(int)\n",
    "# Avoid division by zero\n",
    "state_stats['Percentage'] = (state_stats['Psychiatric'] / state_stats['Total']).replace([pd.NA, float('inf')], 0) * 100\n",
    "\n",
    "# Round percentage for display and sort by percentage desc\n",
    "state_stats['Percentage'] = state_stats['Percentage'].round(2)\n",
    "state_stats = state_stats.sort_values(by='Percentage', ascending=False)\n",
    "\n",
    "# Display top 10 states by percentage\n",
    "print(\"Top 10 states by % of psychiatric hospitals:\")\n",
    "print(state_stats.head(10))\n",
    "\n",
    "# Display the state with the highest percentage (if any rows exist)\n",
    "if not state_stats.empty:\n",
    "    top_state = state_stats.iloc[0]\n",
    "    print(\"\\nState with the highest percentage of psychiatric hospitals:\")\n",
    "    print(f\"State: {state_stats.index[0]}\")\n",
    "    print(top_state.to_string())\n",
    "else:\n",
    "    print(\"No data available to compute statistics.\")\n"
   ]
  },
  {
   "cell_type": "code",
   "execution_count": null,
   "id": "c83148b3-9ce8-4367-9711-dc1108cccaf7",
   "metadata": {},
   "outputs": [],
   "source": []
  }
 ],
 "metadata": {
  "kernelspec": {
   "display_name": "Python 3 (ipykernel)",
   "language": "python",
   "name": "python3"
  },
  "language_info": {
   "codemirror_mode": {
    "name": "ipython",
    "version": 3
   },
   "file_extension": ".py",
   "mimetype": "text/x-python",
   "name": "python",
   "nbconvert_exporter": "python",
   "pygments_lexer": "ipython3",
   "version": "3.13.7"
  }
 },
 "nbformat": 4,
 "nbformat_minor": 5
}
