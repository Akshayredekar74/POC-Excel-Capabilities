{
 "cells": [
  {
   "cell_type": "code",
   "execution_count": 1,
   "id": "a9f64725",
   "metadata": {},
   "outputs": [
    {
     "name": "stdout",
     "output_type": "stream",
     "text": [
      "LangSmith Tracing Enabled: true\n"
     ]
    }
   ],
   "source": [
    "import os\n",
    "from dotenv import load_dotenv\n",
    "import pandas as pd\n",
    "import duckdb\n",
    "from langchain_groq import ChatGroq\n",
    "from langchain_core.messages import HumanMessage, SystemMessage, AIMessage\n",
    "from langgraph.graph import StateGraph, START, END\n",
    "from typing import Annotated, List, Literal\n",
    "from langgraph.graph.message import add_messages\n",
    "from typing_extensions import TypedDict\n",
    "import glob\n",
    "from langfuse.langchain import CallbackHandler\n",
    "from langsmith import traceable  # ADD THIS LINE\n",
    "\n",
    "load_dotenv()\n",
    "\n",
    "# LangSmith setup (ADD THESE LINES)\n",
    "os.environ[\"LANGCHAIN_TRACING_V2\"] = \"true\"\n",
    "os.environ[\"LANGCHAIN_PROJECT\"] = \"sql_agent\"  \n",
    "\n",
    "langfuse_handler = CallbackHandler()\n",
    "\n",
    "print(f\"LangSmith Tracing Enabled: {os.getenv('LANGCHAIN_TRACING_V2')}\")"
   ]
  },
  {
   "cell_type": "code",
   "execution_count": 2,
   "id": "9b449743",
   "metadata": {},
   "outputs": [
    {
     "name": "stdout",
     "output_type": "stream",
     "text": [
      "Files found: 1\n",
      "  - organizations.csv\n"
     ]
    }
   ],
   "source": [
    "data_folder = r\"C:\\Users\\AkshayRedekar\\Documents\\POC-Excel-Capabilities\\06-agentic_rag_with_dbtool\\data\\structured_files\\test\"\n",
    "csv_files = glob.glob(os.path.join(data_folder, '**/*.csv'), recursive=True)\n",
    "excel_files = glob.glob(os.path.join(data_folder, '**/*.xlsx'), recursive=True)\n",
    "excel_files += glob.glob(os.path.join(data_folder, '**/*.xls'), recursive=True)\n",
    "all_files = csv_files + excel_files\n",
    "print(f\"Files found: {len(all_files)}\")\n",
    "\n",
    "# Check if files exist\n",
    "if len(all_files) == 0:\n",
    "    raise FileNotFoundError(f\"No CSV or Excel files found in '{data_folder}'. Please check the path and add data files.\")\n",
    "\n",
    "# Display found files\n",
    "for file in all_files:\n",
    "    print(f\"  - {os.path.basename(file)}\")"
   ]
  },
  {
   "cell_type": "code",
   "execution_count": 3,
   "id": "219606d1",
   "metadata": {},
   "outputs": [
    {
     "name": "stdout",
     "output_type": "stream",
     "text": [
      "File loading function defined!\n"
     ]
    }
   ],
   "source": [
    "def load_file(file_path):\n",
    "    \"\"\"Load CSV or Excel file into a pandas DataFrame\"\"\"\n",
    "    try:\n",
    "        if file_path.endswith('.csv'):\n",
    "            return pd.read_csv(file_path)\n",
    "        elif file_path.endswith(('.xlsx', '.xls')):\n",
    "            return pd.read_excel(file_path)\n",
    "    except Exception as e:\n",
    "        print(f\"Error loading {file_path}: {e}\")\n",
    "    return None\n",
    "\n",
    "print(\"File loading function defined!\")"
   ]
  },
  {
   "cell_type": "code",
   "execution_count": 4,
   "id": "2c718d39",
   "metadata": {},
   "outputs": [
    {
     "name": "stdout",
     "output_type": "stream",
     "text": [
      "Database ready: 1 tables\n",
      "Database saved to: ./db/test.duckdb\n"
     ]
    }
   ],
   "source": [
    "# Define the database file path\n",
    "db_file_path = \"./db/test.duckdb\"  # Change this to your desired path\n",
    "\n",
    "# Create directory if it doesn't exist\n",
    "os.makedirs(os.path.dirname(db_file_path), exist_ok=True)\n",
    "\n",
    "# Connect to DuckDB file (creates file if doesn't exist)\n",
    "duckdb_connection = duckdb.connect(db_file_path)\n",
    "\n",
    "table_info = {}\n",
    "all_file_info = []\n",
    "\n",
    "for file_path in all_files:\n",
    "    dataframe = load_file(file_path)\n",
    "    if dataframe is not None:\n",
    "        table_name = os.path.splitext(os.path.basename(file_path))[0].replace(' ', '_').replace('-', '_')\n",
    "        \n",
    "        # Register DataFrame and create table in DuckDB\n",
    "        duckdb_connection.register('temp_df', dataframe)\n",
    "        duckdb_connection.execute(f\"CREATE OR REPLACE TABLE {table_name} AS SELECT * FROM temp_df\")\n",
    "        duckdb_connection.unregister('temp_df')\n",
    "        \n",
    "        table_info[table_name] = dataframe.columns.tolist()\n",
    "        all_file_info.append({\n",
    "            'table_name': table_name,\n",
    "            'columns': dataframe.columns.tolist(),\n",
    "            'total_rows': len(dataframe),\n",
    "            'file_path': file_path\n",
    "        })\n",
    "\n",
    "print(f\"Database ready: {len(table_info)} tables\")\n",
    "print(f\"Database saved to: {db_file_path}\")"
   ]
  },
  {
   "cell_type": "code",
   "execution_count": 5,
   "id": "4292c1f9",
   "metadata": {},
   "outputs": [
    {
     "name": "stdout",
     "output_type": "stream",
     "text": [
      "Available Tables and Columns:\n",
      "\n",
      "Table: organizations\n",
      "Columns: Index, Organization Id, Name, Website, Country, Description, Founded, Industry, Number of employees\n",
      "Total Rows: 100\n",
      "\n",
      "\n"
     ]
    }
   ],
   "source": [
    "sql_schema = \"Available Tables and Columns:\\n\\n\"\n",
    "for info in all_file_info:\n",
    "    sql_schema += f\"Table: {info['table_name']}\\n\"\n",
    "    sql_schema += f\"Columns: {', '.join(info['columns'])}\\n\"\n",
    "    sql_schema += f\"Total Rows: {info['total_rows']}\\n\\n\"\n",
    "\n",
    "print(sql_schema)"
   ]
  },
  {
   "cell_type": "code",
   "execution_count": 6,
   "id": "b8ecb5d8",
   "metadata": {},
   "outputs": [
    {
     "name": "stdout",
     "output_type": "stream",
     "text": [
      "Database management functions defined!\n",
      "\n",
      "Tables in database:\n",
      "  - organizations\n"
     ]
    },
    {
     "data": {
      "text/plain": [
       "[('organizations',)]"
      ]
     },
     "execution_count": 6,
     "metadata": {},
     "output_type": "execute_result"
    }
   ],
   "source": [
    "def close_database():\n",
    "    \"\"\"Close the DuckDB connection\"\"\"\n",
    "    global duckdb_connection\n",
    "    if duckdb_connection:\n",
    "        duckdb_connection.close()\n",
    "        print(f\"Database connection closed: {db_file_path}\")\n",
    "\n",
    "def reopen_database():\n",
    "    \"\"\"Reopen existing DuckDB database\"\"\"\n",
    "    global duckdb_connection\n",
    "    duckdb_connection = duckdb.connect(db_file_path)\n",
    "    print(f\"Database connection reopened: {db_file_path}\")\n",
    "    \n",
    "def get_database_info():\n",
    "    \"\"\"Get information about tables in the database\"\"\"\n",
    "    tables = duckdb_connection.execute(\"SHOW TABLES\").fetchall()\n",
    "    print(\"\\nTables in database:\")\n",
    "    for table in tables:\n",
    "        print(f\"  - {table[0]}\")\n",
    "    return tables\n",
    "\n",
    "def load_existing_schema():\n",
    "    \"\"\"Load schema information from existing database\"\"\"\n",
    "    global table_info, all_file_info, sql_schema\n",
    "    \n",
    "    tables = duckdb_connection.execute(\"SHOW TABLES\").fetchall()\n",
    "    table_info = {}\n",
    "    all_file_info = []\n",
    "    \n",
    "    for table in tables:\n",
    "        table_name = table[0]\n",
    "        # Get column information\n",
    "        columns_query = f\"DESCRIBE {table_name}\"\n",
    "        columns = duckdb_connection.execute(columns_query).fetchall()\n",
    "        column_names = [col[0] for col in columns]\n",
    "        \n",
    "        # Get row count\n",
    "        row_count = duckdb_connection.execute(f\"SELECT COUNT(*) FROM {table_name}\").fetchone()[0]\n",
    "        \n",
    "        table_info[table_name] = column_names\n",
    "        all_file_info.append({\n",
    "            'table_name': table_name,\n",
    "            'columns': column_names,\n",
    "            'total_rows': row_count,\n",
    "            'file_path': 'N/A (loaded from existing database)'\n",
    "        })\n",
    "    \n",
    "    # Regenerate SQL schema description\n",
    "    sql_schema = \"Available Tables and Columns:\\n\\n\"\n",
    "    for info in all_file_info:\n",
    "        sql_schema += f\"Table: {info['table_name']}\\n\"\n",
    "        sql_schema += f\"Columns: {', '.join(info['columns'])}\\n\"\n",
    "        sql_schema += f\"Total Rows: {info['total_rows']}\\n\\n\"\n",
    "    \n",
    "    print(f\"Loaded schema from existing database: {len(table_info)} tables\")\n",
    "    return table_info\n",
    "\n",
    "print(\"Database management functions defined!\")\n",
    "\n",
    "# Optional: View database info\n",
    "get_database_info()"
   ]
  },
  {
   "cell_type": "code",
   "execution_count": 7,
   "id": "5605f079",
   "metadata": {},
   "outputs": [
    {
     "name": "stdout",
     "output_type": "stream",
     "text": [
      "SQL query execution function defined!\n"
     ]
    }
   ],
   "source": [
    "@traceable\n",
    "def run_sql_query(question: str, retry_count: int = 0) -> str:\n",
    "    \"\"\"Execute SQL query based on natural language question\"\"\"\n",
    "    if retry_count > 2:\n",
    "        return \"Unable to generate valid SQL query after multiple attempts\"\n",
    "    \n",
    "    llm = ChatGroq(model=\"llama-3.3-70b-versatile\", temperature=0)\n",
    "    \n",
    "    prompt = f\"\"\"Generate ONLY a valid DuckDB SQL query. No explanations, no markdown, no extra text.\n",
    "\n",
    "{sql_schema}\n",
    "\n",
    "Question: {question}\n",
    "\n",
    "Return ONLY the SQL query without any formatting or code blocks.\"\"\"\n",
    "    \n",
    "    response = llm.invoke([HumanMessage(content=prompt)])\n",
    "    sql_query = response.content.strip()\n",
    "    \n",
    "    # Clean up SQL query\n",
    "    sql_query = sql_query.replace(\"```sql\", \"\").replace(\"```\", \"\").strip()\n",
    "    \n",
    "    lines = sql_query.split('\\n')\n",
    "    clean_lines = []\n",
    "    for line in lines:\n",
    "        line = line.strip()\n",
    "        if line and not line.startswith('--') and not line.startswith('#'):\n",
    "            clean_lines.append(line)\n",
    "    sql_query = ' '.join(clean_lines)\n",
    "    \n",
    "    sql_query = sql_query.split(';')[0].strip()\n",
    "    \n",
    "    try:\n",
    "        # Execute query with DuckDB\n",
    "        result = duckdb_connection.execute(sql_query).fetchall()\n",
    "        columns = [desc[0] for desc in duckdb_connection.description]\n",
    "        \n",
    "        result_text = f\"SQL Query: {sql_query}\\n\\nResults ({len(result)} rows):\\n\"\n",
    "        result_text += f\"Columns: {', '.join(columns)}\\n\\n\"\n",
    "        \n",
    "        for row in result[:20]:\n",
    "            result_text += str(row) + \"\\n\"\n",
    "        \n",
    "        return result_text\n",
    "    except Exception as e:\n",
    "        print(f\"SQL Error (Attempt {retry_count + 1}): {str(e)}\")\n",
    "        return run_sql_query(question, retry_count + 1)\n",
    "\n",
    "print(\"SQL query execution function defined!\")"
   ]
  },
  {
   "cell_type": "code",
   "execution_count": 8,
   "id": "4edb2ba3",
   "metadata": {},
   "outputs": [
    {
     "name": "stdout",
     "output_type": "stream",
     "text": [
      "Agent state defined!\n"
     ]
    }
   ],
   "source": [
    "class AgentState(TypedDict):\n",
    "    messages: Annotated[List, add_messages]\n",
    "    sql_context: str\n",
    "    answer: str\n",
    "    reflection: str\n",
    "    retry_count: int\n",
    "\n",
    "print(\"Agent state defined!\")"
   ]
  },
  {
   "cell_type": "code",
   "execution_count": 9,
   "id": "d6b3fb37",
   "metadata": {},
   "outputs": [
    {
     "name": "stdout",
     "output_type": "stream",
     "text": [
      "Execute SQL node defined!\n"
     ]
    }
   ],
   "source": [
    "@traceable(run_type=\"tool\", name=\"execute_sql_node\")\n",
    "def execute_sql(state: AgentState):\n",
    "    \"\"\"Node to execute SQL query\"\"\"\n",
    "    print(\"[SQL EXECUTION]\")\n",
    "    \n",
    "    query = state[\"messages\"][0].content\n",
    "    sql_context = run_sql_query(query)\n",
    "    \n",
    "    return {\"sql_context\": sql_context}\n",
    "\n",
    "print(\"Execute SQL node defined!\")"
   ]
  },
  {
   "cell_type": "code",
   "execution_count": 10,
   "id": "f1fa2b82",
   "metadata": {},
   "outputs": [
    {
     "name": "stdout",
     "output_type": "stream",
     "text": [
      "Generate answer node defined!\n"
     ]
    }
   ],
   "source": [
    "@traceable\n",
    "def generate_answer(state: AgentState):\n",
    "    \"\"\"Node to generate answer from SQL results\"\"\"\n",
    "    print(\"[GENERATE ANSWER]\")\n",
    "    \n",
    "    sql_context = state.get(\"sql_context\", \"\")\n",
    "    question = state[\"messages\"][0].content\n",
    "    \n",
    "    system_msg = f\"\"\"Answer the question using the SQL query results provided.\n",
    "\n",
    "Database Schema:\n",
    "{sql_schema}\n",
    "\n",
    "Be concise, accurate, and base your answer only on the data provided.\"\"\"\n",
    "    \n",
    "    llm = ChatGroq(model=\"llama-3.3-70b-versatile\", temperature=0)\n",
    "    \n",
    "    response = llm.invoke(\n",
    "        [\n",
    "            SystemMessage(content=system_msg),\n",
    "            HumanMessage(content=f\"SQL Results: {sql_context}\\n\\nQuestion: {question}\")\n",
    "        ],\n",
    "        config={\"callbacks\": [langfuse_handler]}\n",
    "    )\n",
    "    \n",
    "    return {\"answer\": response.content}\n",
    "\n",
    "print(\"Generate answer node defined!\")"
   ]
  },
  {
   "cell_type": "code",
   "execution_count": 11,
   "id": "b4844372",
   "metadata": {},
   "outputs": [
    {
     "name": "stdout",
     "output_type": "stream",
     "text": [
      "Reflect answer node defined!\n"
     ]
    }
   ],
   "source": [
    "@traceable\n",
    "def reflect_answer(state: AgentState):\n",
    "    \"\"\"Node to reflect on answer quality\"\"\"\n",
    "    print(\"[REFLECTION]\")\n",
    "    \n",
    "    question = state[\"messages\"][0].content\n",
    "    answer = state[\"answer\"]\n",
    "    \n",
    "    prompt = f\"\"\"Evaluate if the answer properly addresses the question.\n",
    "\n",
    "Question: {question}\n",
    "\n",
    "Answer: {answer}\n",
    "\n",
    "Respond with ONLY 'GOOD' if the answer is satisfactory, or 'RETRY' if it needs improvement.\"\"\"\n",
    "    \n",
    "    llm = ChatGroq(model=\"llama-3.3-70b-versatile\", temperature=0)\n",
    "    result = llm.invoke(\n",
    "        [HumanMessage(content=prompt)],\n",
    "        config={\"callbacks\": [langfuse_handler]}\n",
    "    )\n",
    "    \n",
    "    retry_count = state.get(\"retry_count\", 0)\n",
    "    \n",
    "    return {\n",
    "        \"reflection\": result.content,\n",
    "        \"retry_count\": retry_count + 1\n",
    "    }\n",
    "\n",
    "print(\"Reflect answer node defined!\")"
   ]
  },
  {
   "cell_type": "code",
   "execution_count": 12,
   "id": "efe79dc4",
   "metadata": {},
   "outputs": [
    {
     "name": "stdout",
     "output_type": "stream",
     "text": [
      "Finalize node defined!\n"
     ]
    }
   ],
   "source": [
    "@traceable\n",
    "def finalize(state: AgentState):\n",
    "    \"\"\"Node to finalize the answer\"\"\"\n",
    "    print(\"[FINALIZE]\")\n",
    "    \n",
    "    final_msg = AIMessage(content=state[\"answer\"])\n",
    "    return {\"messages\": [final_msg]}\n",
    "\n",
    "print(\"Finalize node defined!\")"
   ]
  },
  {
   "cell_type": "code",
   "execution_count": 13,
   "id": "d3f921b3",
   "metadata": {},
   "outputs": [
    {
     "name": "stdout",
     "output_type": "stream",
     "text": [
      "Routing function defined!\n"
     ]
    }
   ],
   "source": [
    "def route_after_reflection(state: AgentState) -> Literal[\"execute_sql\", \"finalize\"]:\n",
    "    \"\"\"Determine next node based on reflection\"\"\"\n",
    "    retry_count = state.get(\"retry_count\", 0)\n",
    "    reflection = state.get(\"reflection\", \"\")\n",
    "    \n",
    "    if \"good\" in reflection.lower():\n",
    "        return \"finalize\"\n",
    "    elif retry_count < 2:\n",
    "        return \"execute_sql\"\n",
    "    else:\n",
    "        return \"finalize\"\n",
    "\n",
    "print(\"Routing function defined!\")"
   ]
  },
  {
   "cell_type": "code",
   "execution_count": 14,
   "id": "8bff04e6",
   "metadata": {},
   "outputs": [
    {
     "name": "stdout",
     "output_type": "stream",
     "text": [
      "✅ SQL Agent Graph ready!\n"
     ]
    }
   ],
   "source": [
    "workflow = StateGraph(AgentState)\n",
    "\n",
    "# Add nodes\n",
    "workflow.add_node(\"execute_sql\", execute_sql)\n",
    "workflow.add_node(\"generate_answer\", generate_answer)\n",
    "workflow.add_node(\"reflect_answer\", reflect_answer)\n",
    "workflow.add_node(\"finalize\", finalize)\n",
    "\n",
    "# Add edges\n",
    "workflow.add_edge(START, \"execute_sql\")\n",
    "workflow.add_edge(\"execute_sql\", \"generate_answer\")\n",
    "workflow.add_edge(\"generate_answer\", \"reflect_answer\")\n",
    "\n",
    "workflow.add_conditional_edges(\n",
    "    \"reflect_answer\",\n",
    "    route_after_reflection,\n",
    "    {\n",
    "        \"execute_sql\": \"execute_sql\",\n",
    "        \"finalize\": \"finalize\"\n",
    "    }\n",
    ")\n",
    "\n",
    "workflow.add_edge(\"finalize\", END)\n",
    "\n",
    "# Compile the graph\n",
    "graph = workflow.compile()\n",
    "\n",
    "print(\"✅ SQL Agent Graph ready!\")"
   ]
  },
  {
   "cell_type": "code",
   "execution_count": 15,
   "id": "c0d0dd96",
   "metadata": {},
   "outputs": [
    {
     "data": {
      "image/png": "[encoded data removed]",
      "text/plain": [
       "<IPython.core.display.Image object>"
      ]
     },
     "metadata": {},
     "output_type": "display_data"
    }
   ],
   "source": [
    "from IPython.display import Image, display\n",
    "\n",
    "try:\n",
    "    display(Image(graph.get_graph().draw_mermaid_png()))\n",
    "except Exception as e:\n",
    "    print(f\"Graph visualization not available: {e}\")"
   ]
  },
  {
   "cell_type": "code",
   "execution_count": 16,
   "id": "e2e9954f",
   "metadata": {},
   "outputs": [
    {
     "name": "stdout",
     "output_type": "stream",
     "text": [
      "\n",
      "============================================================\n",
      "Question: What is the total number of rows in the dataset?\n",
      "============================================================\n",
      "[SQL EXECUTION]\n",
      "[GENERATE ANSWER]\n",
      "[REFLECTION]\n",
      "[FINALIZE]\n",
      "\n",
      "Answer:\n",
      "The total number of rows in the dataset is 100.\n"
     ]
    }
   ],
   "source": [
    "@traceable\n",
    "def run_query_pipeline(question: str):\n",
    "    \"\"\"Main pipeline to run a query through the agent\"\"\"\n",
    "    result = graph.invoke(\n",
    "        {\"messages\": [HumanMessage(content=question)]},\n",
    "        config={\"callbacks\": [langfuse_handler]}\n",
    "    )\n",
    "    return result['messages'][-1].content\n",
    "\n",
    "# Execute queries\n",
    "questions = [\n",
    "    \"What is the total number of rows in the dataset?\",\n",
    "    # \"Show me the first 5 records\",\n",
    "    # \"What are all the column names in the tables?\"\n",
    "]\n",
    "\n",
    "for question in questions:\n",
    "    print(f\"\\n{'='*60}\")\n",
    "    print(f\"Question: {question}\")\n",
    "    print('='*60)\n",
    "    \n",
    "    answer = run_query_pipeline(question)\n",
    "    print(f\"\\nAnswer:\\n{answer}\")"
   ]
  },
  {
   "cell_type": "code",
   "execution_count": null,
   "id": "5385da14",
   "metadata": {},
   "outputs": [],
   "source": []
  }
 ],
 "metadata": {
  "kernelspec": {
   "display_name": "pocexcel",
   "language": "python",
   "name": "python3"
  },
  "language_info": {
   "codemirror_mode": {
    "name": "ipython",
    "version": 3
   },
   "file_extension": ".py",
   "mimetype": "text/x-python",
   "name": "python",
   "nbconvert_exporter": "python",
   "pygments_lexer": "ipython3",
   "version": "3.12.9"
  }
 },
 "nbformat": 4,
 "nbformat_minor": 5
}
